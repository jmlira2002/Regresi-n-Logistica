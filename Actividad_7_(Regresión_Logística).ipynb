{
  "nbformat": 4,
  "nbformat_minor": 0,
  "metadata": {
    "colab": {
      "provenance": [],
      "authorship_tag": "ABX9TyN6S/bl6yu2hGZidlIVZrBO",
      "include_colab_link": true
    },
    "kernelspec": {
      "name": "python3",
      "display_name": "Python 3"
    },
    "language_info": {
      "name": "python"
    }
  },
  "cells": [
    {
      "cell_type": "markdown",
      "metadata": {
        "id": "view-in-github",
        "colab_type": "text"
      },
      "source": [
        "<a href=\"https://colab.research.google.com/github/jmlira2002/Regresi-n-Logistica/blob/main/Actividad_7_(Regresi%C3%B3n_Log%C3%ADstica).ipynb\" target=\"_parent\"><img src=\"https://colab.research.google.com/assets/colab-badge.svg\" alt=\"Open In Colab\"/></a>"
      ]
    },
    {
      "cell_type": "markdown",
      "metadata": {
        "id": "6Sn81E7hnHF2"
      },
      "source": [
        "# José María Martínez Lira - A01707738"
      ]
    },
    {
      "cell_type": "code",
      "execution_count": 210,
      "metadata": {
        "id": "jHD1TEpdHOuY"
      },
      "outputs": [],
      "source": [
        "#Cargamos librerias\n",
        "import pandas as pd\n",
        "from sklearn.model_selection import train_test_split\n",
        "from sklearn.preprocessing import StandardScaler\n",
        "from sklearn.metrics import precision_score\n",
        "from sklearn.metrics import accuracy_score\n",
        "from sklearn.metrics import recall_score"
      ]
    },
    {
      "cell_type": "markdown",
      "metadata": {
        "id": "p46WCiC0USY7"
      },
      "source": [
        "## Agregar el archivo: “Cuentas_credicel.csv”"
      ]
    },
    {
      "cell_type": "code",
      "execution_count": 211,
      "metadata": {
        "colab": {
          "base_uri": "https://localhost:8080/",
          "height": 481
        },
        "id": "y8d9OsC4Ig9d",
        "outputId": "a6fd563f-42f8-47c2-8c64-400417d4aa25"
      },
      "outputs": [
        {
          "output_type": "stream",
          "name": "stderr",
          "text": [
            "<ipython-input-211-3c80a7a5d960>:1: DtypeWarning: Columns (30) have mixed types. Specify dtype option on import or set low_memory=False.\n",
            "  df = pd.read_csv('cuentas_credicel.csv')\n"
          ]
        },
        {
          "output_type": "execute_result",
          "data": {
            "text/plain": [
              "   folio       tag  folio_solicitud             fecha     marca  \\\n",
              "0      3  HDNAWQ3A               30  12/11/2021 19:00       ZTE   \n",
              "1      4  M418YNR4               33  12/11/2021 19:15  MOTOROLA   \n",
              "2      5  SZ7V3NZT               37  13/11/2021 14:13       ZTE   \n",
              "3      6  9I08UIQZ               38  13/11/2021 15:45       ZTE   \n",
              "4      7  JMF4LKYU               44  13/11/2021 16:10  MOTOROLA   \n",
              "\n",
              "                         modelo plazo  precio  enganche  descuento  ...  \\\n",
              "0            Blade A3 2020 RO B   26S  1949.0     780.0        0.0  ...   \n",
              "1  LTE XT2097-12 E7I POWER Azul   13S  2999.0    1050.0        0.0  ...   \n",
              "2            BLADE A3 2020 Gris   13S  1959.0     490.0        0.0  ...   \n",
              "3            BLADE A3 2020 Gris   13S  1959.0     490.0        0.0  ...   \n",
              "4                         G10 B   39S  4299.0    1075.0        0.0  ...   \n",
              "\n",
              "   porc_eng  limite_credito  semana_actual  cp_cliente edad_cliente  \\\n",
              "0     40.02            5000             26         NaN         23.0   \n",
              "1     35.01            6000             13         NaN         60.0   \n",
              "2     25.01               0             74         NaN         58.0   \n",
              "3     25.01            7000             13         NaN         42.0   \n",
              "4     25.01            7000             74         NaN         33.0   \n",
              "\n",
              "    cd_cliente  edo_cliente                    cd_venta edo_venta  \\\n",
              "0            0            0                   Tantoyuca  Veracruz   \n",
              "1      PUEBLA          PUE.  Heroica Puebla de Zaragoza    Puebla   \n",
              "2    TANTOYUCA         VER.                           0         0   \n",
              "3  AMXTLAN PUE          NaN                    Zacatlan    Puebla   \n",
              "4   TANTOYUCA          VER.                   Tantoyuca  Veracruz   \n",
              "\n",
              "                 curp  \n",
              "0  AEVM980413MVZNDR02  \n",
              "1  ZALC610119MPLPRR07  \n",
              "2                   0  \n",
              "3  SAMJ790115MPLNRS02  \n",
              "4  TEHF880707HVZRRR07  \n",
              "\n",
              "[5 rows x 39 columns]"
            ],
            "text/html": [
              "\n",
              "  <div id=\"df-e95d4a87-2d2a-4781-b335-5121006b95e4\" class=\"colab-df-container\">\n",
              "    <div>\n",
              "<style scoped>\n",
              "    .dataframe tbody tr th:only-of-type {\n",
              "        vertical-align: middle;\n",
              "    }\n",
              "\n",
              "    .dataframe tbody tr th {\n",
              "        vertical-align: top;\n",
              "    }\n",
              "\n",
              "    .dataframe thead th {\n",
              "        text-align: right;\n",
              "    }\n",
              "</style>\n",
              "<table border=\"1\" class=\"dataframe\">\n",
              "  <thead>\n",
              "    <tr style=\"text-align: right;\">\n",
              "      <th></th>\n",
              "      <th>folio</th>\n",
              "      <th>tag</th>\n",
              "      <th>folio_solicitud</th>\n",
              "      <th>fecha</th>\n",
              "      <th>marca</th>\n",
              "      <th>modelo</th>\n",
              "      <th>plazo</th>\n",
              "      <th>precio</th>\n",
              "      <th>enganche</th>\n",
              "      <th>descuento</th>\n",
              "      <th>...</th>\n",
              "      <th>porc_eng</th>\n",
              "      <th>limite_credito</th>\n",
              "      <th>semana_actual</th>\n",
              "      <th>cp_cliente</th>\n",
              "      <th>edad_cliente</th>\n",
              "      <th>cd_cliente</th>\n",
              "      <th>edo_cliente</th>\n",
              "      <th>cd_venta</th>\n",
              "      <th>edo_venta</th>\n",
              "      <th>curp</th>\n",
              "    </tr>\n",
              "  </thead>\n",
              "  <tbody>\n",
              "    <tr>\n",
              "      <th>0</th>\n",
              "      <td>3</td>\n",
              "      <td>HDNAWQ3A</td>\n",
              "      <td>30</td>\n",
              "      <td>12/11/2021 19:00</td>\n",
              "      <td>ZTE</td>\n",
              "      <td>Blade A3 2020 RO B</td>\n",
              "      <td>26S</td>\n",
              "      <td>1949.0</td>\n",
              "      <td>780.0</td>\n",
              "      <td>0.0</td>\n",
              "      <td>...</td>\n",
              "      <td>40.02</td>\n",
              "      <td>5000</td>\n",
              "      <td>26</td>\n",
              "      <td>NaN</td>\n",
              "      <td>23.0</td>\n",
              "      <td>0</td>\n",
              "      <td>0</td>\n",
              "      <td>Tantoyuca</td>\n",
              "      <td>Veracruz</td>\n",
              "      <td>AEVM980413MVZNDR02</td>\n",
              "    </tr>\n",
              "    <tr>\n",
              "      <th>1</th>\n",
              "      <td>4</td>\n",
              "      <td>M418YNR4</td>\n",
              "      <td>33</td>\n",
              "      <td>12/11/2021 19:15</td>\n",
              "      <td>MOTOROLA</td>\n",
              "      <td>LTE XT2097-12 E7I POWER Azul</td>\n",
              "      <td>13S</td>\n",
              "      <td>2999.0</td>\n",
              "      <td>1050.0</td>\n",
              "      <td>0.0</td>\n",
              "      <td>...</td>\n",
              "      <td>35.01</td>\n",
              "      <td>6000</td>\n",
              "      <td>13</td>\n",
              "      <td>NaN</td>\n",
              "      <td>60.0</td>\n",
              "      <td>PUEBLA</td>\n",
              "      <td>PUE.</td>\n",
              "      <td>Heroica Puebla de Zaragoza</td>\n",
              "      <td>Puebla</td>\n",
              "      <td>ZALC610119MPLPRR07</td>\n",
              "    </tr>\n",
              "    <tr>\n",
              "      <th>2</th>\n",
              "      <td>5</td>\n",
              "      <td>SZ7V3NZT</td>\n",
              "      <td>37</td>\n",
              "      <td>13/11/2021 14:13</td>\n",
              "      <td>ZTE</td>\n",
              "      <td>BLADE A3 2020 Gris</td>\n",
              "      <td>13S</td>\n",
              "      <td>1959.0</td>\n",
              "      <td>490.0</td>\n",
              "      <td>0.0</td>\n",
              "      <td>...</td>\n",
              "      <td>25.01</td>\n",
              "      <td>0</td>\n",
              "      <td>74</td>\n",
              "      <td>NaN</td>\n",
              "      <td>58.0</td>\n",
              "      <td>TANTOYUCA</td>\n",
              "      <td>VER.</td>\n",
              "      <td>0</td>\n",
              "      <td>0</td>\n",
              "      <td>0</td>\n",
              "    </tr>\n",
              "    <tr>\n",
              "      <th>3</th>\n",
              "      <td>6</td>\n",
              "      <td>9I08UIQZ</td>\n",
              "      <td>38</td>\n",
              "      <td>13/11/2021 15:45</td>\n",
              "      <td>ZTE</td>\n",
              "      <td>BLADE A3 2020 Gris</td>\n",
              "      <td>13S</td>\n",
              "      <td>1959.0</td>\n",
              "      <td>490.0</td>\n",
              "      <td>0.0</td>\n",
              "      <td>...</td>\n",
              "      <td>25.01</td>\n",
              "      <td>7000</td>\n",
              "      <td>13</td>\n",
              "      <td>NaN</td>\n",
              "      <td>42.0</td>\n",
              "      <td>AMXTLAN PUE</td>\n",
              "      <td>NaN</td>\n",
              "      <td>Zacatlan</td>\n",
              "      <td>Puebla</td>\n",
              "      <td>SAMJ790115MPLNRS02</td>\n",
              "    </tr>\n",
              "    <tr>\n",
              "      <th>4</th>\n",
              "      <td>7</td>\n",
              "      <td>JMF4LKYU</td>\n",
              "      <td>44</td>\n",
              "      <td>13/11/2021 16:10</td>\n",
              "      <td>MOTOROLA</td>\n",
              "      <td>G10 B</td>\n",
              "      <td>39S</td>\n",
              "      <td>4299.0</td>\n",
              "      <td>1075.0</td>\n",
              "      <td>0.0</td>\n",
              "      <td>...</td>\n",
              "      <td>25.01</td>\n",
              "      <td>7000</td>\n",
              "      <td>74</td>\n",
              "      <td>NaN</td>\n",
              "      <td>33.0</td>\n",
              "      <td>TANTOYUCA</td>\n",
              "      <td>VER.</td>\n",
              "      <td>Tantoyuca</td>\n",
              "      <td>Veracruz</td>\n",
              "      <td>TEHF880707HVZRRR07</td>\n",
              "    </tr>\n",
              "  </tbody>\n",
              "</table>\n",
              "<p>5 rows × 39 columns</p>\n",
              "</div>\n",
              "    <div class=\"colab-df-buttons\">\n",
              "\n",
              "  <div class=\"colab-df-container\">\n",
              "    <button class=\"colab-df-convert\" onclick=\"convertToInteractive('df-e95d4a87-2d2a-4781-b335-5121006b95e4')\"\n",
              "            title=\"Convert this dataframe to an interactive table.\"\n",
              "            style=\"display:none;\">\n",
              "\n",
              "  <svg xmlns=\"http://www.w3.org/2000/svg\" height=\"24px\" viewBox=\"0 -960 960 960\">\n",
              "    <path d=\"M120-120v-720h720v720H120Zm60-500h600v-160H180v160Zm220 220h160v-160H400v160Zm0 220h160v-160H400v160ZM180-400h160v-160H180v160Zm440 0h160v-160H620v160ZM180-180h160v-160H180v160Zm440 0h160v-160H620v160Z\"/>\n",
              "  </svg>\n",
              "    </button>\n",
              "\n",
              "  <style>\n",
              "    .colab-df-container {\n",
              "      display:flex;\n",
              "      gap: 12px;\n",
              "    }\n",
              "\n",
              "    .colab-df-convert {\n",
              "      background-color: #E8F0FE;\n",
              "      border: none;\n",
              "      border-radius: 50%;\n",
              "      cursor: pointer;\n",
              "      display: none;\n",
              "      fill: #1967D2;\n",
              "      height: 32px;\n",
              "      padding: 0 0 0 0;\n",
              "      width: 32px;\n",
              "    }\n",
              "\n",
              "    .colab-df-convert:hover {\n",
              "      background-color: #E2EBFA;\n",
              "      box-shadow: 0px 1px 2px rgba(60, 64, 67, 0.3), 0px 1px 3px 1px rgba(60, 64, 67, 0.15);\n",
              "      fill: #174EA6;\n",
              "    }\n",
              "\n",
              "    .colab-df-buttons div {\n",
              "      margin-bottom: 4px;\n",
              "    }\n",
              "\n",
              "    [theme=dark] .colab-df-convert {\n",
              "      background-color: #3B4455;\n",
              "      fill: #D2E3FC;\n",
              "    }\n",
              "\n",
              "    [theme=dark] .colab-df-convert:hover {\n",
              "      background-color: #434B5C;\n",
              "      box-shadow: 0px 1px 3px 1px rgba(0, 0, 0, 0.15);\n",
              "      filter: drop-shadow(0px 1px 2px rgba(0, 0, 0, 0.3));\n",
              "      fill: #FFFFFF;\n",
              "    }\n",
              "  </style>\n",
              "\n",
              "    <script>\n",
              "      const buttonEl =\n",
              "        document.querySelector('#df-e95d4a87-2d2a-4781-b335-5121006b95e4 button.colab-df-convert');\n",
              "      buttonEl.style.display =\n",
              "        google.colab.kernel.accessAllowed ? 'block' : 'none';\n",
              "\n",
              "      async function convertToInteractive(key) {\n",
              "        const element = document.querySelector('#df-e95d4a87-2d2a-4781-b335-5121006b95e4');\n",
              "        const dataTable =\n",
              "          await google.colab.kernel.invokeFunction('convertToInteractive',\n",
              "                                                    [key], {});\n",
              "        if (!dataTable) return;\n",
              "\n",
              "        const docLinkHtml = 'Like what you see? Visit the ' +\n",
              "          '<a target=\"_blank\" href=https://colab.research.google.com/notebooks/data_table.ipynb>data table notebook</a>'\n",
              "          + ' to learn more about interactive tables.';\n",
              "        element.innerHTML = '';\n",
              "        dataTable['output_type'] = 'display_data';\n",
              "        await google.colab.output.renderOutput(dataTable, element);\n",
              "        const docLink = document.createElement('div');\n",
              "        docLink.innerHTML = docLinkHtml;\n",
              "        element.appendChild(docLink);\n",
              "      }\n",
              "    </script>\n",
              "  </div>\n",
              "\n",
              "\n",
              "<div id=\"df-351d9bdc-5f56-4aa9-8bae-81621be1383c\">\n",
              "  <button class=\"colab-df-quickchart\" onclick=\"quickchart('df-351d9bdc-5f56-4aa9-8bae-81621be1383c')\"\n",
              "            title=\"Suggest charts.\"\n",
              "            style=\"display:none;\">\n",
              "\n",
              "<svg xmlns=\"http://www.w3.org/2000/svg\" height=\"24px\"viewBox=\"0 0 24 24\"\n",
              "     width=\"24px\">\n",
              "    <g>\n",
              "        <path d=\"M19 3H5c-1.1 0-2 .9-2 2v14c0 1.1.9 2 2 2h14c1.1 0 2-.9 2-2V5c0-1.1-.9-2-2-2zM9 17H7v-7h2v7zm4 0h-2V7h2v10zm4 0h-2v-4h2v4z\"/>\n",
              "    </g>\n",
              "</svg>\n",
              "  </button>\n",
              "\n",
              "<style>\n",
              "  .colab-df-quickchart {\n",
              "      --bg-color: #E8F0FE;\n",
              "      --fill-color: #1967D2;\n",
              "      --hover-bg-color: #E2EBFA;\n",
              "      --hover-fill-color: #174EA6;\n",
              "      --disabled-fill-color: #AAA;\n",
              "      --disabled-bg-color: #DDD;\n",
              "  }\n",
              "\n",
              "  [theme=dark] .colab-df-quickchart {\n",
              "      --bg-color: #3B4455;\n",
              "      --fill-color: #D2E3FC;\n",
              "      --hover-bg-color: #434B5C;\n",
              "      --hover-fill-color: #FFFFFF;\n",
              "      --disabled-bg-color: #3B4455;\n",
              "      --disabled-fill-color: #666;\n",
              "  }\n",
              "\n",
              "  .colab-df-quickchart {\n",
              "    background-color: var(--bg-color);\n",
              "    border: none;\n",
              "    border-radius: 50%;\n",
              "    cursor: pointer;\n",
              "    display: none;\n",
              "    fill: var(--fill-color);\n",
              "    height: 32px;\n",
              "    padding: 0;\n",
              "    width: 32px;\n",
              "  }\n",
              "\n",
              "  .colab-df-quickchart:hover {\n",
              "    background-color: var(--hover-bg-color);\n",
              "    box-shadow: 0 1px 2px rgba(60, 64, 67, 0.3), 0 1px 3px 1px rgba(60, 64, 67, 0.15);\n",
              "    fill: var(--button-hover-fill-color);\n",
              "  }\n",
              "\n",
              "  .colab-df-quickchart-complete:disabled,\n",
              "  .colab-df-quickchart-complete:disabled:hover {\n",
              "    background-color: var(--disabled-bg-color);\n",
              "    fill: var(--disabled-fill-color);\n",
              "    box-shadow: none;\n",
              "  }\n",
              "\n",
              "  .colab-df-spinner {\n",
              "    border: 2px solid var(--fill-color);\n",
              "    border-color: transparent;\n",
              "    border-bottom-color: var(--fill-color);\n",
              "    animation:\n",
              "      spin 1s steps(1) infinite;\n",
              "  }\n",
              "\n",
              "  @keyframes spin {\n",
              "    0% {\n",
              "      border-color: transparent;\n",
              "      border-bottom-color: var(--fill-color);\n",
              "      border-left-color: var(--fill-color);\n",
              "    }\n",
              "    20% {\n",
              "      border-color: transparent;\n",
              "      border-left-color: var(--fill-color);\n",
              "      border-top-color: var(--fill-color);\n",
              "    }\n",
              "    30% {\n",
              "      border-color: transparent;\n",
              "      border-left-color: var(--fill-color);\n",
              "      border-top-color: var(--fill-color);\n",
              "      border-right-color: var(--fill-color);\n",
              "    }\n",
              "    40% {\n",
              "      border-color: transparent;\n",
              "      border-right-color: var(--fill-color);\n",
              "      border-top-color: var(--fill-color);\n",
              "    }\n",
              "    60% {\n",
              "      border-color: transparent;\n",
              "      border-right-color: var(--fill-color);\n",
              "    }\n",
              "    80% {\n",
              "      border-color: transparent;\n",
              "      border-right-color: var(--fill-color);\n",
              "      border-bottom-color: var(--fill-color);\n",
              "    }\n",
              "    90% {\n",
              "      border-color: transparent;\n",
              "      border-bottom-color: var(--fill-color);\n",
              "    }\n",
              "  }\n",
              "</style>\n",
              "\n",
              "  <script>\n",
              "    async function quickchart(key) {\n",
              "      const quickchartButtonEl =\n",
              "        document.querySelector('#' + key + ' button');\n",
              "      quickchartButtonEl.disabled = true;  // To prevent multiple clicks.\n",
              "      quickchartButtonEl.classList.add('colab-df-spinner');\n",
              "      try {\n",
              "        const charts = await google.colab.kernel.invokeFunction(\n",
              "            'suggestCharts', [key], {});\n",
              "      } catch (error) {\n",
              "        console.error('Error during call to suggestCharts:', error);\n",
              "      }\n",
              "      quickchartButtonEl.classList.remove('colab-df-spinner');\n",
              "      quickchartButtonEl.classList.add('colab-df-quickchart-complete');\n",
              "    }\n",
              "    (() => {\n",
              "      let quickchartButtonEl =\n",
              "        document.querySelector('#df-351d9bdc-5f56-4aa9-8bae-81621be1383c button');\n",
              "      quickchartButtonEl.style.display =\n",
              "        google.colab.kernel.accessAllowed ? 'block' : 'none';\n",
              "    })();\n",
              "  </script>\n",
              "</div>\n",
              "    </div>\n",
              "  </div>\n"
            ]
          },
          "metadata": {},
          "execution_count": 211
        }
      ],
      "source": [
        "df = pd.read_csv('cuentas_credicel.csv')\n",
        "df.head()"
      ]
    },
    {
      "cell_type": "code",
      "execution_count": 212,
      "metadata": {
        "colab": {
          "base_uri": "https://localhost:8080/"
        },
        "id": "Ak50Zub9J8Mr",
        "outputId": "9f5e08bd-1ea1-4125-a9f7-d7ba9cb1127c"
      },
      "outputs": [
        {
          "output_type": "stream",
          "name": "stdout",
          "text": [
            "<class 'pandas.core.frame.DataFrame'>\n",
            "RangeIndex: 22735 entries, 0 to 22734\n",
            "Data columns (total 39 columns):\n",
            " #   Column              Non-Null Count  Dtype  \n",
            "---  ------              --------------  -----  \n",
            " 0   folio               22735 non-null  int64  \n",
            " 1   tag                 22735 non-null  object \n",
            " 2   folio_solicitud     22735 non-null  int64  \n",
            " 3   fecha               22735 non-null  object \n",
            " 4   marca               22735 non-null  object \n",
            " 5   modelo              22735 non-null  object \n",
            " 6   plazo               22735 non-null  object \n",
            " 7   precio              22735 non-null  float64\n",
            " 8   enganche            22735 non-null  float64\n",
            " 9   descuento           22735 non-null  float64\n",
            " 10  semana              22735 non-null  int64  \n",
            " 11  monto_financiado    22735 non-null  float64\n",
            " 12  costo_total         22735 non-null  int64  \n",
            " 13  monto_accesorios    22735 non-null  float64\n",
            " 14  agente_venta        22735 non-null  object \n",
            " 15  dis_venta           22735 non-null  object \n",
            " 16  status              22735 non-null  int64  \n",
            " 17  fraude              22735 non-null  int64  \n",
            " 18  empresa             22722 non-null  object \n",
            " 19  inversion           22735 non-null  int64  \n",
            " 20  pagos_realizados    22735 non-null  int64  \n",
            " 21  reautorizacion      22735 non-null  int64  \n",
            " 22  fecha_ultimo_pago   19379 non-null  object \n",
            " 23  fecha_pago_proximo  19379 non-null  object \n",
            " 24  status_cuenta       19421 non-null  object \n",
            " 25  puntos              22735 non-null  int64  \n",
            " 26  riesgo              22735 non-null  float64\n",
            " 27  score_buro          22735 non-null  int64  \n",
            " 28  razones_buro        15395 non-null  object \n",
            " 29  porc_eng            22735 non-null  float64\n",
            " 30  limite_credito      22735 non-null  object \n",
            " 31  semana_actual       22735 non-null  int64  \n",
            " 32  cp_cliente          15492 non-null  object \n",
            " 33  edad_cliente        22726 non-null  float64\n",
            " 34  cd_cliente          22735 non-null  object \n",
            " 35  edo_cliente         22727 non-null  object \n",
            " 36  cd_venta            22735 non-null  object \n",
            " 37  edo_venta           22735 non-null  object \n",
            " 38  curp                22735 non-null  object \n",
            "dtypes: float64(8), int64(12), object(19)\n",
            "memory usage: 6.8+ MB\n",
            "None\n"
          ]
        }
      ],
      "source": [
        "print(df.info())"
      ]
    },
    {
      "cell_type": "markdown",
      "metadata": {
        "id": "9AMwNHvgUadq"
      },
      "source": [
        "## Realiza las acciones de preprocesamiento necesarias: Nulos y Outliers"
      ]
    },
    {
      "cell_type": "code",
      "execution_count": 213,
      "metadata": {
        "colab": {
          "base_uri": "https://localhost:8080/"
        },
        "id": "r57H4CsjKQ24",
        "outputId": "14f29e7a-1f32-4292-d655-c08b852b04c2"
      },
      "outputs": [
        {
          "output_type": "execute_result",
          "data": {
            "text/plain": [
              "empresa                 13\n",
              "fecha_ultimo_pago     3356\n",
              "fecha_pago_proximo    3356\n",
              "status_cuenta         3314\n",
              "razones_buro          7340\n",
              "cp_cliente            7243\n",
              "edad_cliente             9\n",
              "edo_cliente              8\n",
              "dtype: int64"
            ]
          },
          "metadata": {},
          "execution_count": 213
        }
      ],
      "source": [
        "df[df.columns[df.isnull().sum() > 0]].isnull().sum()"
      ]
    },
    {
      "cell_type": "code",
      "execution_count": 214,
      "metadata": {
        "colab": {
          "base_uri": "https://localhost:8080/",
          "height": 363
        },
        "id": "SOGlxRAeK9nU",
        "outputId": "c887fbc4-caaa-4b00-d4da-d2451d690487"
      },
      "outputs": [
        {
          "output_type": "execute_result",
          "data": {
            "text/plain": [
              "           empresa fecha_ultimo_pago fecha_pago_proximo status_cuenta  \\\n",
              "6183   comunicatec               NaN                NaN           NaN   \n",
              "6209      servicel  31/01/2023 00:00   07/02/2023 00:00           NaN   \n",
              "14735     servicel  13/04/2023 00:00   21/04/2023 00:00     Corriente   \n",
              "4012    procredito  14/09/2022 00:00   21/09/2022 00:00          Mora   \n",
              "10820        phuny  19/11/2022 00:00   26/11/2022 00:00        Fraude   \n",
              "22722    arcelular  18/04/2023 17:05   25/04/2023 00:00           NaN   \n",
              "14942     microtec  15/04/2023 00:00   22/04/2023 00:00     Corriente   \n",
              "8562      servicel  21/03/2023 00:00   28/03/2023 00:00          Mora   \n",
              "10533     microtec  19/12/2022 00:00   06/01/2023 00:00          Mora   \n",
              "5606      microtec  09/10/2022 00:00   22/11/2022 00:00          Mora   \n",
              "\n",
              "      razones_buro cp_cliente  edad_cliente edo_cliente  \n",
              "6183           NaN        NaN          20.0        GRO.  \n",
              "6209           NaN        NaN          26.0         YUC  \n",
              "14735  K0,J0,D8,D7      97758          30.0         YUC  \n",
              "4012           NaN        NaN          52.0        PUE.  \n",
              "10820  J0,E2,D2,E0      72760          44.0         PUE  \n",
              "22722  K0,D7,J0,E2      40080          42.0         GRO  \n",
              "14942           C2      73070          30.0         PUE  \n",
              "8562   K0,J0,E2,D8      97930          36.0         YUC  \n",
              "10533           C1          0          25.0         PUE  \n",
              "5606           NaN        NaN          25.0        PUE.  "
            ],
            "text/html": [
              "\n",
              "  <div id=\"df-00912938-d715-4357-9681-052536bbe05e\" class=\"colab-df-container\">\n",
              "    <div>\n",
              "<style scoped>\n",
              "    .dataframe tbody tr th:only-of-type {\n",
              "        vertical-align: middle;\n",
              "    }\n",
              "\n",
              "    .dataframe tbody tr th {\n",
              "        vertical-align: top;\n",
              "    }\n",
              "\n",
              "    .dataframe thead th {\n",
              "        text-align: right;\n",
              "    }\n",
              "</style>\n",
              "<table border=\"1\" class=\"dataframe\">\n",
              "  <thead>\n",
              "    <tr style=\"text-align: right;\">\n",
              "      <th></th>\n",
              "      <th>empresa</th>\n",
              "      <th>fecha_ultimo_pago</th>\n",
              "      <th>fecha_pago_proximo</th>\n",
              "      <th>status_cuenta</th>\n",
              "      <th>razones_buro</th>\n",
              "      <th>cp_cliente</th>\n",
              "      <th>edad_cliente</th>\n",
              "      <th>edo_cliente</th>\n",
              "    </tr>\n",
              "  </thead>\n",
              "  <tbody>\n",
              "    <tr>\n",
              "      <th>6183</th>\n",
              "      <td>comunicatec</td>\n",
              "      <td>NaN</td>\n",
              "      <td>NaN</td>\n",
              "      <td>NaN</td>\n",
              "      <td>NaN</td>\n",
              "      <td>NaN</td>\n",
              "      <td>20.0</td>\n",
              "      <td>GRO.</td>\n",
              "    </tr>\n",
              "    <tr>\n",
              "      <th>6209</th>\n",
              "      <td>servicel</td>\n",
              "      <td>31/01/2023 00:00</td>\n",
              "      <td>07/02/2023 00:00</td>\n",
              "      <td>NaN</td>\n",
              "      <td>NaN</td>\n",
              "      <td>NaN</td>\n",
              "      <td>26.0</td>\n",
              "      <td>YUC</td>\n",
              "    </tr>\n",
              "    <tr>\n",
              "      <th>14735</th>\n",
              "      <td>servicel</td>\n",
              "      <td>13/04/2023 00:00</td>\n",
              "      <td>21/04/2023 00:00</td>\n",
              "      <td>Corriente</td>\n",
              "      <td>K0,J0,D8,D7</td>\n",
              "      <td>97758</td>\n",
              "      <td>30.0</td>\n",
              "      <td>YUC</td>\n",
              "    </tr>\n",
              "    <tr>\n",
              "      <th>4012</th>\n",
              "      <td>procredito</td>\n",
              "      <td>14/09/2022 00:00</td>\n",
              "      <td>21/09/2022 00:00</td>\n",
              "      <td>Mora</td>\n",
              "      <td>NaN</td>\n",
              "      <td>NaN</td>\n",
              "      <td>52.0</td>\n",
              "      <td>PUE.</td>\n",
              "    </tr>\n",
              "    <tr>\n",
              "      <th>10820</th>\n",
              "      <td>phuny</td>\n",
              "      <td>19/11/2022 00:00</td>\n",
              "      <td>26/11/2022 00:00</td>\n",
              "      <td>Fraude</td>\n",
              "      <td>J0,E2,D2,E0</td>\n",
              "      <td>72760</td>\n",
              "      <td>44.0</td>\n",
              "      <td>PUE</td>\n",
              "    </tr>\n",
              "    <tr>\n",
              "      <th>22722</th>\n",
              "      <td>arcelular</td>\n",
              "      <td>18/04/2023 17:05</td>\n",
              "      <td>25/04/2023 00:00</td>\n",
              "      <td>NaN</td>\n",
              "      <td>K0,D7,J0,E2</td>\n",
              "      <td>40080</td>\n",
              "      <td>42.0</td>\n",
              "      <td>GRO</td>\n",
              "    </tr>\n",
              "    <tr>\n",
              "      <th>14942</th>\n",
              "      <td>microtec</td>\n",
              "      <td>15/04/2023 00:00</td>\n",
              "      <td>22/04/2023 00:00</td>\n",
              "      <td>Corriente</td>\n",
              "      <td>C2</td>\n",
              "      <td>73070</td>\n",
              "      <td>30.0</td>\n",
              "      <td>PUE</td>\n",
              "    </tr>\n",
              "    <tr>\n",
              "      <th>8562</th>\n",
              "      <td>servicel</td>\n",
              "      <td>21/03/2023 00:00</td>\n",
              "      <td>28/03/2023 00:00</td>\n",
              "      <td>Mora</td>\n",
              "      <td>K0,J0,E2,D8</td>\n",
              "      <td>97930</td>\n",
              "      <td>36.0</td>\n",
              "      <td>YUC</td>\n",
              "    </tr>\n",
              "    <tr>\n",
              "      <th>10533</th>\n",
              "      <td>microtec</td>\n",
              "      <td>19/12/2022 00:00</td>\n",
              "      <td>06/01/2023 00:00</td>\n",
              "      <td>Mora</td>\n",
              "      <td>C1</td>\n",
              "      <td>0</td>\n",
              "      <td>25.0</td>\n",
              "      <td>PUE</td>\n",
              "    </tr>\n",
              "    <tr>\n",
              "      <th>5606</th>\n",
              "      <td>microtec</td>\n",
              "      <td>09/10/2022 00:00</td>\n",
              "      <td>22/11/2022 00:00</td>\n",
              "      <td>Mora</td>\n",
              "      <td>NaN</td>\n",
              "      <td>NaN</td>\n",
              "      <td>25.0</td>\n",
              "      <td>PUE.</td>\n",
              "    </tr>\n",
              "  </tbody>\n",
              "</table>\n",
              "</div>\n",
              "    <div class=\"colab-df-buttons\">\n",
              "\n",
              "  <div class=\"colab-df-container\">\n",
              "    <button class=\"colab-df-convert\" onclick=\"convertToInteractive('df-00912938-d715-4357-9681-052536bbe05e')\"\n",
              "            title=\"Convert this dataframe to an interactive table.\"\n",
              "            style=\"display:none;\">\n",
              "\n",
              "  <svg xmlns=\"http://www.w3.org/2000/svg\" height=\"24px\" viewBox=\"0 -960 960 960\">\n",
              "    <path d=\"M120-120v-720h720v720H120Zm60-500h600v-160H180v160Zm220 220h160v-160H400v160Zm0 220h160v-160H400v160ZM180-400h160v-160H180v160Zm440 0h160v-160H620v160ZM180-180h160v-160H180v160Zm440 0h160v-160H620v160Z\"/>\n",
              "  </svg>\n",
              "    </button>\n",
              "\n",
              "  <style>\n",
              "    .colab-df-container {\n",
              "      display:flex;\n",
              "      gap: 12px;\n",
              "    }\n",
              "\n",
              "    .colab-df-convert {\n",
              "      background-color: #E8F0FE;\n",
              "      border: none;\n",
              "      border-radius: 50%;\n",
              "      cursor: pointer;\n",
              "      display: none;\n",
              "      fill: #1967D2;\n",
              "      height: 32px;\n",
              "      padding: 0 0 0 0;\n",
              "      width: 32px;\n",
              "    }\n",
              "\n",
              "    .colab-df-convert:hover {\n",
              "      background-color: #E2EBFA;\n",
              "      box-shadow: 0px 1px 2px rgba(60, 64, 67, 0.3), 0px 1px 3px 1px rgba(60, 64, 67, 0.15);\n",
              "      fill: #174EA6;\n",
              "    }\n",
              "\n",
              "    .colab-df-buttons div {\n",
              "      margin-bottom: 4px;\n",
              "    }\n",
              "\n",
              "    [theme=dark] .colab-df-convert {\n",
              "      background-color: #3B4455;\n",
              "      fill: #D2E3FC;\n",
              "    }\n",
              "\n",
              "    [theme=dark] .colab-df-convert:hover {\n",
              "      background-color: #434B5C;\n",
              "      box-shadow: 0px 1px 3px 1px rgba(0, 0, 0, 0.15);\n",
              "      filter: drop-shadow(0px 1px 2px rgba(0, 0, 0, 0.3));\n",
              "      fill: #FFFFFF;\n",
              "    }\n",
              "  </style>\n",
              "\n",
              "    <script>\n",
              "      const buttonEl =\n",
              "        document.querySelector('#df-00912938-d715-4357-9681-052536bbe05e button.colab-df-convert');\n",
              "      buttonEl.style.display =\n",
              "        google.colab.kernel.accessAllowed ? 'block' : 'none';\n",
              "\n",
              "      async function convertToInteractive(key) {\n",
              "        const element = document.querySelector('#df-00912938-d715-4357-9681-052536bbe05e');\n",
              "        const dataTable =\n",
              "          await google.colab.kernel.invokeFunction('convertToInteractive',\n",
              "                                                    [key], {});\n",
              "        if (!dataTable) return;\n",
              "\n",
              "        const docLinkHtml = 'Like what you see? Visit the ' +\n",
              "          '<a target=\"_blank\" href=https://colab.research.google.com/notebooks/data_table.ipynb>data table notebook</a>'\n",
              "          + ' to learn more about interactive tables.';\n",
              "        element.innerHTML = '';\n",
              "        dataTable['output_type'] = 'display_data';\n",
              "        await google.colab.output.renderOutput(dataTable, element);\n",
              "        const docLink = document.createElement('div');\n",
              "        docLink.innerHTML = docLinkHtml;\n",
              "        element.appendChild(docLink);\n",
              "      }\n",
              "    </script>\n",
              "  </div>\n",
              "\n",
              "\n",
              "<div id=\"df-ce5c189c-6be2-4340-b0d2-5fd98614a4c3\">\n",
              "  <button class=\"colab-df-quickchart\" onclick=\"quickchart('df-ce5c189c-6be2-4340-b0d2-5fd98614a4c3')\"\n",
              "            title=\"Suggest charts.\"\n",
              "            style=\"display:none;\">\n",
              "\n",
              "<svg xmlns=\"http://www.w3.org/2000/svg\" height=\"24px\"viewBox=\"0 0 24 24\"\n",
              "     width=\"24px\">\n",
              "    <g>\n",
              "        <path d=\"M19 3H5c-1.1 0-2 .9-2 2v14c0 1.1.9 2 2 2h14c1.1 0 2-.9 2-2V5c0-1.1-.9-2-2-2zM9 17H7v-7h2v7zm4 0h-2V7h2v10zm4 0h-2v-4h2v4z\"/>\n",
              "    </g>\n",
              "</svg>\n",
              "  </button>\n",
              "\n",
              "<style>\n",
              "  .colab-df-quickchart {\n",
              "      --bg-color: #E8F0FE;\n",
              "      --fill-color: #1967D2;\n",
              "      --hover-bg-color: #E2EBFA;\n",
              "      --hover-fill-color: #174EA6;\n",
              "      --disabled-fill-color: #AAA;\n",
              "      --disabled-bg-color: #DDD;\n",
              "  }\n",
              "\n",
              "  [theme=dark] .colab-df-quickchart {\n",
              "      --bg-color: #3B4455;\n",
              "      --fill-color: #D2E3FC;\n",
              "      --hover-bg-color: #434B5C;\n",
              "      --hover-fill-color: #FFFFFF;\n",
              "      --disabled-bg-color: #3B4455;\n",
              "      --disabled-fill-color: #666;\n",
              "  }\n",
              "\n",
              "  .colab-df-quickchart {\n",
              "    background-color: var(--bg-color);\n",
              "    border: none;\n",
              "    border-radius: 50%;\n",
              "    cursor: pointer;\n",
              "    display: none;\n",
              "    fill: var(--fill-color);\n",
              "    height: 32px;\n",
              "    padding: 0;\n",
              "    width: 32px;\n",
              "  }\n",
              "\n",
              "  .colab-df-quickchart:hover {\n",
              "    background-color: var(--hover-bg-color);\n",
              "    box-shadow: 0 1px 2px rgba(60, 64, 67, 0.3), 0 1px 3px 1px rgba(60, 64, 67, 0.15);\n",
              "    fill: var(--button-hover-fill-color);\n",
              "  }\n",
              "\n",
              "  .colab-df-quickchart-complete:disabled,\n",
              "  .colab-df-quickchart-complete:disabled:hover {\n",
              "    background-color: var(--disabled-bg-color);\n",
              "    fill: var(--disabled-fill-color);\n",
              "    box-shadow: none;\n",
              "  }\n",
              "\n",
              "  .colab-df-spinner {\n",
              "    border: 2px solid var(--fill-color);\n",
              "    border-color: transparent;\n",
              "    border-bottom-color: var(--fill-color);\n",
              "    animation:\n",
              "      spin 1s steps(1) infinite;\n",
              "  }\n",
              "\n",
              "  @keyframes spin {\n",
              "    0% {\n",
              "      border-color: transparent;\n",
              "      border-bottom-color: var(--fill-color);\n",
              "      border-left-color: var(--fill-color);\n",
              "    }\n",
              "    20% {\n",
              "      border-color: transparent;\n",
              "      border-left-color: var(--fill-color);\n",
              "      border-top-color: var(--fill-color);\n",
              "    }\n",
              "    30% {\n",
              "      border-color: transparent;\n",
              "      border-left-color: var(--fill-color);\n",
              "      border-top-color: var(--fill-color);\n",
              "      border-right-color: var(--fill-color);\n",
              "    }\n",
              "    40% {\n",
              "      border-color: transparent;\n",
              "      border-right-color: var(--fill-color);\n",
              "      border-top-color: var(--fill-color);\n",
              "    }\n",
              "    60% {\n",
              "      border-color: transparent;\n",
              "      border-right-color: var(--fill-color);\n",
              "    }\n",
              "    80% {\n",
              "      border-color: transparent;\n",
              "      border-right-color: var(--fill-color);\n",
              "      border-bottom-color: var(--fill-color);\n",
              "    }\n",
              "    90% {\n",
              "      border-color: transparent;\n",
              "      border-bottom-color: var(--fill-color);\n",
              "    }\n",
              "  }\n",
              "</style>\n",
              "\n",
              "  <script>\n",
              "    async function quickchart(key) {\n",
              "      const quickchartButtonEl =\n",
              "        document.querySelector('#' + key + ' button');\n",
              "      quickchartButtonEl.disabled = true;  // To prevent multiple clicks.\n",
              "      quickchartButtonEl.classList.add('colab-df-spinner');\n",
              "      try {\n",
              "        const charts = await google.colab.kernel.invokeFunction(\n",
              "            'suggestCharts', [key], {});\n",
              "      } catch (error) {\n",
              "        console.error('Error during call to suggestCharts:', error);\n",
              "      }\n",
              "      quickchartButtonEl.classList.remove('colab-df-spinner');\n",
              "      quickchartButtonEl.classList.add('colab-df-quickchart-complete');\n",
              "    }\n",
              "    (() => {\n",
              "      let quickchartButtonEl =\n",
              "        document.querySelector('#df-ce5c189c-6be2-4340-b0d2-5fd98614a4c3 button');\n",
              "      quickchartButtonEl.style.display =\n",
              "        google.colab.kernel.accessAllowed ? 'block' : 'none';\n",
              "    })();\n",
              "  </script>\n",
              "</div>\n",
              "    </div>\n",
              "  </div>\n"
            ]
          },
          "metadata": {},
          "execution_count": 214
        }
      ],
      "source": [
        "df[df.columns[df.isnull().sum() > 0]].sample(10)"
      ]
    },
    {
      "cell_type": "code",
      "execution_count": 215,
      "metadata": {
        "id": "TdzTZzlKLIC-"
      },
      "outputs": [],
      "source": [
        "columna = ['empresa']\n",
        "df[columna] = df[columna].fillna(method = 'ffill')"
      ]
    },
    {
      "cell_type": "code",
      "execution_count": 216,
      "metadata": {
        "id": "lW8wIhY1MFSM"
      },
      "outputs": [],
      "source": [
        "columna = ['fecha_ultimo_pago', 'fecha_pago_proximo']\n",
        "df[columna] = df[columna].fillna('01/01/1900 00:00')"
      ]
    },
    {
      "cell_type": "code",
      "execution_count": 217,
      "metadata": {
        "colab": {
          "base_uri": "https://localhost:8080/"
        },
        "id": "0mJ1Jud1MqtM",
        "outputId": "4ed5060d-5345-467f-da99-0993d0b9a4b7"
      },
      "outputs": [
        {
          "output_type": "execute_result",
          "data": {
            "text/plain": [
              "Corriente    10014\n",
              "Mora          4604\n",
              "Atraso        2960\n",
              "Fraude        1696\n",
              "Cancelado      147\n",
              "Name: status_cuenta, dtype: int64"
            ]
          },
          "metadata": {},
          "execution_count": 217
        }
      ],
      "source": [
        "df['status_cuenta'].value_counts()"
      ]
    },
    {
      "cell_type": "code",
      "execution_count": 218,
      "metadata": {
        "id": "ADvi7cVPM1s1"
      },
      "outputs": [],
      "source": [
        "columna = ['status_cuenta']\n",
        "df[columna] = df[columna].fillna('Corriente')"
      ]
    },
    {
      "cell_type": "code",
      "execution_count": 219,
      "metadata": {
        "id": "dopF2OfWNbQS"
      },
      "outputs": [],
      "source": [
        "columna = ['razones_buro', 'edo_cliente', 'cp_cliente']\n",
        "df[columna] = df[columna].fillna(method = 'bfill')"
      ]
    },
    {
      "cell_type": "code",
      "execution_count": 220,
      "metadata": {
        "id": "JBCU6n9zN8oB"
      },
      "outputs": [],
      "source": [
        "columna = ['edad_cliente']\n",
        "df[columna] = df[columna].fillna(round(df[columna].mean(),0))"
      ]
    },
    {
      "cell_type": "code",
      "execution_count": 221,
      "metadata": {
        "id": "MnKRDLsTqjP6"
      },
      "outputs": [],
      "source": [
        "df['limite_credito'] = pd.to_numeric(df['limite_credito'], errors='coerce')\n",
        "df['limite_credito'].fillna(7000, inplace=True)"
      ]
    },
    {
      "cell_type": "code",
      "execution_count": 222,
      "metadata": {
        "colab": {
          "base_uri": "https://localhost:8080/"
        },
        "id": "LF8Vo5NQPQ2F",
        "outputId": "97dcd1d5-154e-4528-a353-aa3770ba6e1f"
      },
      "outputs": [
        {
          "output_type": "execute_result",
          "data": {
            "text/plain": [
              "0"
            ]
          },
          "metadata": {},
          "execution_count": 222
        }
      ],
      "source": [
        "df.isnull().sum().sum()"
      ]
    },
    {
      "cell_type": "code",
      "execution_count": 223,
      "metadata": {
        "colab": {
          "base_uri": "https://localhost:8080/",
          "height": 470
        },
        "id": "NF1LlsfHUjm7",
        "outputId": "6fef3d57-6114-4ae6-a4e0-b373e4afe513"
      },
      "outputs": [
        {
          "output_type": "display_data",
          "data": {
            "text/plain": [
              "<Figure size 3000x5000 with 0 Axes>"
            ]
          },
          "metadata": {}
        },
        {
          "output_type": "display_data",
          "data": {
            "text/plain": [
              "<Figure size 640x480 with 1 Axes>"
            ],
            "image/png": "[encoded data removed]"
          },
          "metadata": {}
        }
      ],
      "source": [
        "#Realizamos diagrama de caja del df\n",
        "import matplotlib.pyplot as plt\n",
        "fig = plt.figure(figsize =(30, 50))\n",
        "df.plot(kind='box', vert=False)\n",
        "plt.title(\"Valores Atípicos\")\n",
        "plt.show()"
      ]
    },
    {
      "cell_type": "code",
      "execution_count": 224,
      "metadata": {
        "colab": {
          "base_uri": "https://localhost:8080/"
        },
        "id": "MPpnP2UwU5iB",
        "outputId": "97068c8e-f8e1-46bf-8bb7-66c8cd306bdd"
      },
      "outputs": [
        {
          "output_type": "execute_result",
          "data": {
            "text/plain": [
              "folio                  0\n",
              "folio_solicitud        0\n",
              "precio               110\n",
              "enganche             292\n",
              "descuento             17\n",
              "semana               362\n",
              "monto_financiado     182\n",
              "costo_total          290\n",
              "monto_accesorios     617\n",
              "status               154\n",
              "fraude              1701\n",
              "inversion              0\n",
              "pagos_realizados     184\n",
              "reautorizacion       774\n",
              "puntos                 3\n",
              "riesgo                65\n",
              "score_buro             0\n",
              "porc_eng             275\n",
              "limite_credito         7\n",
              "semana_actual        178\n",
              "edad_cliente          99\n",
              "dtype: int64"
            ]
          },
          "metadata": {},
          "execution_count": 224
        }
      ],
      "source": [
        "#Seleccionamos solo las columnas númericas del df\n",
        "datos_numericos = df.select_dtypes(include=['number'])\n",
        "\n",
        "#Definimos los limites con desviación estándar\n",
        "y=datos_numericos\n",
        "Limite_Superior= y.mean() + 3*y.std()\n",
        "Limite_Inferior= y.mean() - 3*y.std()\n",
        "\n",
        "#Eliminamos los outliers\n",
        "y= y[(y<=Limite_Superior)&(y>=Limite_Inferior)]\n",
        "y.isnull().sum()"
      ]
    },
    {
      "cell_type": "code",
      "execution_count": 225,
      "metadata": {
        "colab": {
          "base_uri": "https://localhost:8080/"
        },
        "id": "4T77CuCSU5k2",
        "outputId": "74a2233a-4f84-4b33-9763-93e4c536aef4"
      },
      "outputs": [
        {
          "output_type": "execute_result",
          "data": {
            "text/plain": [
              "0"
            ]
          },
          "metadata": {},
          "execution_count": 225
        }
      ],
      "source": [
        "#Sustiyuimos outliers con el promedio\n",
        "y=y.fillna(round(y.mean(),1))\n",
        "#Revisamos que se hayan imputado bien los outliers\n",
        "y.isnull().sum().sum()"
      ]
    },
    {
      "cell_type": "code",
      "execution_count": 226,
      "metadata": {
        "colab": {
          "base_uri": "https://localhost:8080/",
          "height": 349
        },
        "id": "Mrh2frD3U5nu",
        "outputId": "f25d2a0d-4614-462e-bfe8-93c953726cfb"
      },
      "outputs": [
        {
          "output_type": "execute_result",
          "data": {
            "text/plain": [
              "              folio  folio_solicitud        precio      enganche  \\\n",
              "count  22735.000000     22735.000000  22735.000000  22735.000000   \n",
              "mean   11511.025951     45850.095711   3997.036591    926.437389   \n",
              "std     6604.027249     27291.270417   1361.507164    476.686485   \n",
              "min        3.000000        30.000000    973.240000      0.000000   \n",
              "25%     5818.500000     21214.500000   3049.000000    625.500000   \n",
              "50%    11520.000000     44938.000000   3549.000000    826.000000   \n",
              "75%    17224.500000     68485.500000   4899.000000   1112.000000   \n",
              "max    22971.000000     96536.000000  14900.000000  20150.000000   \n",
              "\n",
              "          descuento        semana  monto_financiado   costo_total  \\\n",
              "count  22735.000000  22735.000000      22735.000000  22735.000000   \n",
              "mean      78.475742    237.747350       3076.136613   5699.692325   \n",
              "std      133.246426    101.180014       1096.727066   2385.965307   \n",
              "min        0.000000  -1049.000000     -15150.000000 -27274.000000   \n",
              "25%        0.000000    170.000000       2363.000000   4056.000000   \n",
              "50%        0.000000    214.000000       2824.000000   5213.000000   \n",
              "75%      200.000000    285.000000       3699.000000   6877.000000   \n",
              "max      500.000000   1385.000000      12330.000000  22204.000000   \n",
              "\n",
              "       monto_accesorios        status  ...     inversion  pagos_realizados  \\\n",
              "count      22735.000000  22735.000000  ...  22735.000000      22735.000000   \n",
              "mean          13.463768      1.255377  ...      0.236596         10.180779   \n",
              "std           59.265704      0.451933  ...      0.425001          9.708451   \n",
              "min            0.000000      1.000000  ...      0.000000          0.000000   \n",
              "25%            0.000000      1.000000  ...      0.000000          2.000000   \n",
              "50%            0.000000      1.000000  ...      0.000000          8.000000   \n",
              "75%            0.000000      1.000000  ...      0.000000         15.000000   \n",
              "max          853.000000      4.000000  ...      1.000000         62.000000   \n",
              "\n",
              "       reautorizacion        puntos        riesgo    score_buro      porc_eng  \\\n",
              "count    22735.000000  22735.000000  22735.000000  22735.000000  22735.000000   \n",
              "mean         0.034044     14.156807      5.265978    289.953552     23.207056   \n",
              "std          0.181347     11.399142     17.730115    284.022483      7.501417   \n",
              "min          0.000000    -15.000000    -64.000000      0.000000      0.000000   \n",
              "25%          0.000000     10.000000     -5.700000      0.000000     18.450000   \n",
              "50%          0.000000     12.000000      2.250000    427.000000     22.910000   \n",
              "75%          0.000000     14.000000     20.700000    548.000000     25.800000   \n",
              "max          1.000000     50.000000    103.000000    814.000000    403.000000   \n",
              "\n",
              "       limite_credito  semana_actual  edad_cliente  \n",
              "count    22735.000000   22735.000000  22735.000000  \n",
              "mean      5920.406862      20.611700     43.654893  \n",
              "std       2136.564751      14.589733    126.220157  \n",
              "min          0.000000       0.000000     14.000000  \n",
              "25%       4000.000000      11.000000     26.000000  \n",
              "50%       6000.000000      16.000000     34.000000  \n",
              "75%       7000.000000      26.000000     43.000000  \n",
              "max      15000.000000      74.000000   1972.000000  \n",
              "\n",
              "[8 rows x 21 columns]"
            ],
            "text/html": [
              "\n",
              "  <div id=\"df-ace68803-1a9b-49d1-b3bc-86264703dbf6\" class=\"colab-df-container\">\n",
              "    <div>\n",
              "<style scoped>\n",
              "    .dataframe tbody tr th:only-of-type {\n",
              "        vertical-align: middle;\n",
              "    }\n",
              "\n",
              "    .dataframe tbody tr th {\n",
              "        vertical-align: top;\n",
              "    }\n",
              "\n",
              "    .dataframe thead th {\n",
              "        text-align: right;\n",
              "    }\n",
              "</style>\n",
              "<table border=\"1\" class=\"dataframe\">\n",
              "  <thead>\n",
              "    <tr style=\"text-align: right;\">\n",
              "      <th></th>\n",
              "      <th>folio</th>\n",
              "      <th>folio_solicitud</th>\n",
              "      <th>precio</th>\n",
              "      <th>enganche</th>\n",
              "      <th>descuento</th>\n",
              "      <th>semana</th>\n",
              "      <th>monto_financiado</th>\n",
              "      <th>costo_total</th>\n",
              "      <th>monto_accesorios</th>\n",
              "      <th>status</th>\n",
              "      <th>...</th>\n",
              "      <th>inversion</th>\n",
              "      <th>pagos_realizados</th>\n",
              "      <th>reautorizacion</th>\n",
              "      <th>puntos</th>\n",
              "      <th>riesgo</th>\n",
              "      <th>score_buro</th>\n",
              "      <th>porc_eng</th>\n",
              "      <th>limite_credito</th>\n",
              "      <th>semana_actual</th>\n",
              "      <th>edad_cliente</th>\n",
              "    </tr>\n",
              "  </thead>\n",
              "  <tbody>\n",
              "    <tr>\n",
              "      <th>count</th>\n",
              "      <td>22735.000000</td>\n",
              "      <td>22735.000000</td>\n",
              "      <td>22735.000000</td>\n",
              "      <td>22735.000000</td>\n",
              "      <td>22735.000000</td>\n",
              "      <td>22735.000000</td>\n",
              "      <td>22735.000000</td>\n",
              "      <td>22735.000000</td>\n",
              "      <td>22735.000000</td>\n",
              "      <td>22735.000000</td>\n",
              "      <td>...</td>\n",
              "      <td>22735.000000</td>\n",
              "      <td>22735.000000</td>\n",
              "      <td>22735.000000</td>\n",
              "      <td>22735.000000</td>\n",
              "      <td>22735.000000</td>\n",
              "      <td>22735.000000</td>\n",
              "      <td>22735.000000</td>\n",
              "      <td>22735.000000</td>\n",
              "      <td>22735.000000</td>\n",
              "      <td>22735.000000</td>\n",
              "    </tr>\n",
              "    <tr>\n",
              "      <th>mean</th>\n",
              "      <td>11511.025951</td>\n",
              "      <td>45850.095711</td>\n",
              "      <td>3997.036591</td>\n",
              "      <td>926.437389</td>\n",
              "      <td>78.475742</td>\n",
              "      <td>237.747350</td>\n",
              "      <td>3076.136613</td>\n",
              "      <td>5699.692325</td>\n",
              "      <td>13.463768</td>\n",
              "      <td>1.255377</td>\n",
              "      <td>...</td>\n",
              "      <td>0.236596</td>\n",
              "      <td>10.180779</td>\n",
              "      <td>0.034044</td>\n",
              "      <td>14.156807</td>\n",
              "      <td>5.265978</td>\n",
              "      <td>289.953552</td>\n",
              "      <td>23.207056</td>\n",
              "      <td>5920.406862</td>\n",
              "      <td>20.611700</td>\n",
              "      <td>43.654893</td>\n",
              "    </tr>\n",
              "    <tr>\n",
              "      <th>std</th>\n",
              "      <td>6604.027249</td>\n",
              "      <td>27291.270417</td>\n",
              "      <td>1361.507164</td>\n",
              "      <td>476.686485</td>\n",
              "      <td>133.246426</td>\n",
              "      <td>101.180014</td>\n",
              "      <td>1096.727066</td>\n",
              "      <td>2385.965307</td>\n",
              "      <td>59.265704</td>\n",
              "      <td>0.451933</td>\n",
              "      <td>...</td>\n",
              "      <td>0.425001</td>\n",
              "      <td>9.708451</td>\n",
              "      <td>0.181347</td>\n",
              "      <td>11.399142</td>\n",
              "      <td>17.730115</td>\n",
              "      <td>284.022483</td>\n",
              "      <td>7.501417</td>\n",
              "      <td>2136.564751</td>\n",
              "      <td>14.589733</td>\n",
              "      <td>126.220157</td>\n",
              "    </tr>\n",
              "    <tr>\n",
              "      <th>min</th>\n",
              "      <td>3.000000</td>\n",
              "      <td>30.000000</td>\n",
              "      <td>973.240000</td>\n",
              "      <td>0.000000</td>\n",
              "      <td>0.000000</td>\n",
              "      <td>-1049.000000</td>\n",
              "      <td>-15150.000000</td>\n",
              "      <td>-27274.000000</td>\n",
              "      <td>0.000000</td>\n",
              "      <td>1.000000</td>\n",
              "      <td>...</td>\n",
              "      <td>0.000000</td>\n",
              "      <td>0.000000</td>\n",
              "      <td>0.000000</td>\n",
              "      <td>-15.000000</td>\n",
              "      <td>-64.000000</td>\n",
              "      <td>0.000000</td>\n",
              "      <td>0.000000</td>\n",
              "      <td>0.000000</td>\n",
              "      <td>0.000000</td>\n",
              "      <td>14.000000</td>\n",
              "    </tr>\n",
              "    <tr>\n",
              "      <th>25%</th>\n",
              "      <td>5818.500000</td>\n",
              "      <td>21214.500000</td>\n",
              "      <td>3049.000000</td>\n",
              "      <td>625.500000</td>\n",
              "      <td>0.000000</td>\n",
              "      <td>170.000000</td>\n",
              "      <td>2363.000000</td>\n",
              "      <td>4056.000000</td>\n",
              "      <td>0.000000</td>\n",
              "      <td>1.000000</td>\n",
              "      <td>...</td>\n",
              "      <td>0.000000</td>\n",
              "      <td>2.000000</td>\n",
              "      <td>0.000000</td>\n",
              "      <td>10.000000</td>\n",
              "      <td>-5.700000</td>\n",
              "      <td>0.000000</td>\n",
              "      <td>18.450000</td>\n",
              "      <td>4000.000000</td>\n",
              "      <td>11.000000</td>\n",
              "      <td>26.000000</td>\n",
              "    </tr>\n",
              "    <tr>\n",
              "      <th>50%</th>\n",
              "      <td>11520.000000</td>\n",
              "      <td>44938.000000</td>\n",
              "      <td>3549.000000</td>\n",
              "      <td>826.000000</td>\n",
              "      <td>0.000000</td>\n",
              "      <td>214.000000</td>\n",
              "      <td>2824.000000</td>\n",
              "      <td>5213.000000</td>\n",
              "      <td>0.000000</td>\n",
              "      <td>1.000000</td>\n",
              "      <td>...</td>\n",
              "      <td>0.000000</td>\n",
              "      <td>8.000000</td>\n",
              "      <td>0.000000</td>\n",
              "      <td>12.000000</td>\n",
              "      <td>2.250000</td>\n",
              "      <td>427.000000</td>\n",
              "      <td>22.910000</td>\n",
              "      <td>6000.000000</td>\n",
              "      <td>16.000000</td>\n",
              "      <td>34.000000</td>\n",
              "    </tr>\n",
              "    <tr>\n",
              "      <th>75%</th>\n",
              "      <td>17224.500000</td>\n",
              "      <td>68485.500000</td>\n",
              "      <td>4899.000000</td>\n",
              "      <td>1112.000000</td>\n",
              "      <td>200.000000</td>\n",
              "      <td>285.000000</td>\n",
              "      <td>3699.000000</td>\n",
              "      <td>6877.000000</td>\n",
              "      <td>0.000000</td>\n",
              "      <td>1.000000</td>\n",
              "      <td>...</td>\n",
              "      <td>0.000000</td>\n",
              "      <td>15.000000</td>\n",
              "      <td>0.000000</td>\n",
              "      <td>14.000000</td>\n",
              "      <td>20.700000</td>\n",
              "      <td>548.000000</td>\n",
              "      <td>25.800000</td>\n",
              "      <td>7000.000000</td>\n",
              "      <td>26.000000</td>\n",
              "      <td>43.000000</td>\n",
              "    </tr>\n",
              "    <tr>\n",
              "      <th>max</th>\n",
              "      <td>22971.000000</td>\n",
              "      <td>96536.000000</td>\n",
              "      <td>14900.000000</td>\n",
              "      <td>20150.000000</td>\n",
              "      <td>500.000000</td>\n",
              "      <td>1385.000000</td>\n",
              "      <td>12330.000000</td>\n",
              "      <td>22204.000000</td>\n",
              "      <td>853.000000</td>\n",
              "      <td>4.000000</td>\n",
              "      <td>...</td>\n",
              "      <td>1.000000</td>\n",
              "      <td>62.000000</td>\n",
              "      <td>1.000000</td>\n",
              "      <td>50.000000</td>\n",
              "      <td>103.000000</td>\n",
              "      <td>814.000000</td>\n",
              "      <td>403.000000</td>\n",
              "      <td>15000.000000</td>\n",
              "      <td>74.000000</td>\n",
              "      <td>1972.000000</td>\n",
              "    </tr>\n",
              "  </tbody>\n",
              "</table>\n",
              "<p>8 rows × 21 columns</p>\n",
              "</div>\n",
              "    <div class=\"colab-df-buttons\">\n",
              "\n",
              "  <div class=\"colab-df-container\">\n",
              "    <button class=\"colab-df-convert\" onclick=\"convertToInteractive('df-ace68803-1a9b-49d1-b3bc-86264703dbf6')\"\n",
              "            title=\"Convert this dataframe to an interactive table.\"\n",
              "            style=\"display:none;\">\n",
              "\n",
              "  <svg xmlns=\"http://www.w3.org/2000/svg\" height=\"24px\" viewBox=\"0 -960 960 960\">\n",
              "    <path d=\"M120-120v-720h720v720H120Zm60-500h600v-160H180v160Zm220 220h160v-160H400v160Zm0 220h160v-160H400v160ZM180-400h160v-160H180v160Zm440 0h160v-160H620v160ZM180-180h160v-160H180v160Zm440 0h160v-160H620v160Z\"/>\n",
              "  </svg>\n",
              "    </button>\n",
              "\n",
              "  <style>\n",
              "    .colab-df-container {\n",
              "      display:flex;\n",
              "      gap: 12px;\n",
              "    }\n",
              "\n",
              "    .colab-df-convert {\n",
              "      background-color: #E8F0FE;\n",
              "      border: none;\n",
              "      border-radius: 50%;\n",
              "      cursor: pointer;\n",
              "      display: none;\n",
              "      fill: #1967D2;\n",
              "      height: 32px;\n",
              "      padding: 0 0 0 0;\n",
              "      width: 32px;\n",
              "    }\n",
              "\n",
              "    .colab-df-convert:hover {\n",
              "      background-color: #E2EBFA;\n",
              "      box-shadow: 0px 1px 2px rgba(60, 64, 67, 0.3), 0px 1px 3px 1px rgba(60, 64, 67, 0.15);\n",
              "      fill: #174EA6;\n",
              "    }\n",
              "\n",
              "    .colab-df-buttons div {\n",
              "      margin-bottom: 4px;\n",
              "    }\n",
              "\n",
              "    [theme=dark] .colab-df-convert {\n",
              "      background-color: #3B4455;\n",
              "      fill: #D2E3FC;\n",
              "    }\n",
              "\n",
              "    [theme=dark] .colab-df-convert:hover {\n",
              "      background-color: #434B5C;\n",
              "      box-shadow: 0px 1px 3px 1px rgba(0, 0, 0, 0.15);\n",
              "      filter: drop-shadow(0px 1px 2px rgba(0, 0, 0, 0.3));\n",
              "      fill: #FFFFFF;\n",
              "    }\n",
              "  </style>\n",
              "\n",
              "    <script>\n",
              "      const buttonEl =\n",
              "        document.querySelector('#df-ace68803-1a9b-49d1-b3bc-86264703dbf6 button.colab-df-convert');\n",
              "      buttonEl.style.display =\n",
              "        google.colab.kernel.accessAllowed ? 'block' : 'none';\n",
              "\n",
              "      async function convertToInteractive(key) {\n",
              "        const element = document.querySelector('#df-ace68803-1a9b-49d1-b3bc-86264703dbf6');\n",
              "        const dataTable =\n",
              "          await google.colab.kernel.invokeFunction('convertToInteractive',\n",
              "                                                    [key], {});\n",
              "        if (!dataTable) return;\n",
              "\n",
              "        const docLinkHtml = 'Like what you see? Visit the ' +\n",
              "          '<a target=\"_blank\" href=https://colab.research.google.com/notebooks/data_table.ipynb>data table notebook</a>'\n",
              "          + ' to learn more about interactive tables.';\n",
              "        element.innerHTML = '';\n",
              "        dataTable['output_type'] = 'display_data';\n",
              "        await google.colab.output.renderOutput(dataTable, element);\n",
              "        const docLink = document.createElement('div');\n",
              "        docLink.innerHTML = docLinkHtml;\n",
              "        element.appendChild(docLink);\n",
              "      }\n",
              "    </script>\n",
              "  </div>\n",
              "\n",
              "\n",
              "<div id=\"df-17829eb0-2b1b-4a62-b7c9-91785231ae12\">\n",
              "  <button class=\"colab-df-quickchart\" onclick=\"quickchart('df-17829eb0-2b1b-4a62-b7c9-91785231ae12')\"\n",
              "            title=\"Suggest charts.\"\n",
              "            style=\"display:none;\">\n",
              "\n",
              "<svg xmlns=\"http://www.w3.org/2000/svg\" height=\"24px\"viewBox=\"0 0 24 24\"\n",
              "     width=\"24px\">\n",
              "    <g>\n",
              "        <path d=\"M19 3H5c-1.1 0-2 .9-2 2v14c0 1.1.9 2 2 2h14c1.1 0 2-.9 2-2V5c0-1.1-.9-2-2-2zM9 17H7v-7h2v7zm4 0h-2V7h2v10zm4 0h-2v-4h2v4z\"/>\n",
              "    </g>\n",
              "</svg>\n",
              "  </button>\n",
              "\n",
              "<style>\n",
              "  .colab-df-quickchart {\n",
              "      --bg-color: #E8F0FE;\n",
              "      --fill-color: #1967D2;\n",
              "      --hover-bg-color: #E2EBFA;\n",
              "      --hover-fill-color: #174EA6;\n",
              "      --disabled-fill-color: #AAA;\n",
              "      --disabled-bg-color: #DDD;\n",
              "  }\n",
              "\n",
              "  [theme=dark] .colab-df-quickchart {\n",
              "      --bg-color: #3B4455;\n",
              "      --fill-color: #D2E3FC;\n",
              "      --hover-bg-color: #434B5C;\n",
              "      --hover-fill-color: #FFFFFF;\n",
              "      --disabled-bg-color: #3B4455;\n",
              "      --disabled-fill-color: #666;\n",
              "  }\n",
              "\n",
              "  .colab-df-quickchart {\n",
              "    background-color: var(--bg-color);\n",
              "    border: none;\n",
              "    border-radius: 50%;\n",
              "    cursor: pointer;\n",
              "    display: none;\n",
              "    fill: var(--fill-color);\n",
              "    height: 32px;\n",
              "    padding: 0;\n",
              "    width: 32px;\n",
              "  }\n",
              "\n",
              "  .colab-df-quickchart:hover {\n",
              "    background-color: var(--hover-bg-color);\n",
              "    box-shadow: 0 1px 2px rgba(60, 64, 67, 0.3), 0 1px 3px 1px rgba(60, 64, 67, 0.15);\n",
              "    fill: var(--button-hover-fill-color);\n",
              "  }\n",
              "\n",
              "  .colab-df-quickchart-complete:disabled,\n",
              "  .colab-df-quickchart-complete:disabled:hover {\n",
              "    background-color: var(--disabled-bg-color);\n",
              "    fill: var(--disabled-fill-color);\n",
              "    box-shadow: none;\n",
              "  }\n",
              "\n",
              "  .colab-df-spinner {\n",
              "    border: 2px solid var(--fill-color);\n",
              "    border-color: transparent;\n",
              "    border-bottom-color: var(--fill-color);\n",
              "    animation:\n",
              "      spin 1s steps(1) infinite;\n",
              "  }\n",
              "\n",
              "  @keyframes spin {\n",
              "    0% {\n",
              "      border-color: transparent;\n",
              "      border-bottom-color: var(--fill-color);\n",
              "      border-left-color: var(--fill-color);\n",
              "    }\n",
              "    20% {\n",
              "      border-color: transparent;\n",
              "      border-left-color: var(--fill-color);\n",
              "      border-top-color: var(--fill-color);\n",
              "    }\n",
              "    30% {\n",
              "      border-color: transparent;\n",
              "      border-left-color: var(--fill-color);\n",
              "      border-top-color: var(--fill-color);\n",
              "      border-right-color: var(--fill-color);\n",
              "    }\n",
              "    40% {\n",
              "      border-color: transparent;\n",
              "      border-right-color: var(--fill-color);\n",
              "      border-top-color: var(--fill-color);\n",
              "    }\n",
              "    60% {\n",
              "      border-color: transparent;\n",
              "      border-right-color: var(--fill-color);\n",
              "    }\n",
              "    80% {\n",
              "      border-color: transparent;\n",
              "      border-right-color: var(--fill-color);\n",
              "      border-bottom-color: var(--fill-color);\n",
              "    }\n",
              "    90% {\n",
              "      border-color: transparent;\n",
              "      border-bottom-color: var(--fill-color);\n",
              "    }\n",
              "  }\n",
              "</style>\n",
              "\n",
              "  <script>\n",
              "    async function quickchart(key) {\n",
              "      const quickchartButtonEl =\n",
              "        document.querySelector('#' + key + ' button');\n",
              "      quickchartButtonEl.disabled = true;  // To prevent multiple clicks.\n",
              "      quickchartButtonEl.classList.add('colab-df-spinner');\n",
              "      try {\n",
              "        const charts = await google.colab.kernel.invokeFunction(\n",
              "            'suggestCharts', [key], {});\n",
              "      } catch (error) {\n",
              "        console.error('Error during call to suggestCharts:', error);\n",
              "      }\n",
              "      quickchartButtonEl.classList.remove('colab-df-spinner');\n",
              "      quickchartButtonEl.classList.add('colab-df-quickchart-complete');\n",
              "    }\n",
              "    (() => {\n",
              "      let quickchartButtonEl =\n",
              "        document.querySelector('#df-17829eb0-2b1b-4a62-b7c9-91785231ae12 button');\n",
              "      quickchartButtonEl.style.display =\n",
              "        google.colab.kernel.accessAllowed ? 'block' : 'none';\n",
              "    })();\n",
              "  </script>\n",
              "</div>\n",
              "    </div>\n",
              "  </div>\n"
            ]
          },
          "metadata": {},
          "execution_count": 226
        }
      ],
      "source": [
        "#Desplegamos las medidas estadísticas del df antes de hacer el cambio de las vaiables númericas\n",
        "df.describe()"
      ]
    },
    {
      "cell_type": "code",
      "execution_count": 227,
      "metadata": {
        "colab": {
          "base_uri": "https://localhost:8080/",
          "height": 349
        },
        "id": "Z2lYzqyeU5qP",
        "outputId": "ff08119c-c86d-47fa-87a2-36960b5b1213"
      },
      "outputs": [
        {
          "output_type": "execute_result",
          "data": {
            "text/plain": [
              "              folio  folio_solicitud        precio      enganche  \\\n",
              "count  22735.000000     22735.000000  22735.000000  22735.000000   \n",
              "mean   11511.025951     45850.095711   3969.204786    897.571531   \n",
              "std     6604.027249     27291.270417   1295.204963    370.539236   \n",
              "min        3.000000        30.000000    973.240000      0.000000   \n",
              "25%     5818.500000     21214.500000   3049.000000    625.500000   \n",
              "50%    11520.000000     44938.000000   3549.000000    826.000000   \n",
              "75%    17224.500000     68485.500000   4849.000000   1091.000000   \n",
              "max    22971.000000     96536.000000   8069.000000   2349.000000   \n",
              "\n",
              "          descuento        semana  monto_financiado   costo_total  \\\n",
              "count  22735.000000  22735.000000      22735.000000  22735.000000   \n",
              "mean      78.160343    231.393130       3043.789505   5588.620101   \n",
              "std      132.746538     86.084072       1020.864637   2152.608806   \n",
              "min        0.000000      7.000000        249.000000     91.000000   \n",
              "25%        0.000000    170.000000       2363.000000   4056.000000   \n",
              "50%        0.000000    214.000000       2824.000000   5213.000000   \n",
              "75%      200.000000    279.000000       3658.880000   6747.000000   \n",
              "max      400.000000    541.000000       6366.010000  12844.000000   \n",
              "\n",
              "       monto_accesorios        status  ...     inversion  pagos_realizados  \\\n",
              "count      22735.000000  22735.000000  ...  22735.000000      22735.000000   \n",
              "mean           5.009721      1.243053  ...      0.236596          9.916895   \n",
              "std           23.849845      0.427671  ...      0.425001          9.252767   \n",
              "min            0.000000      1.000000  ...      0.000000          0.000000   \n",
              "25%            0.000000      1.000000  ...      0.000000          2.000000   \n",
              "50%            0.000000      1.000000  ...      0.000000          8.000000   \n",
              "75%            0.000000      1.000000  ...      0.000000         15.000000   \n",
              "max          190.000000      2.000000  ...      1.000000         39.000000   \n",
              "\n",
              "       reautorizacion        puntos        riesgo    score_buro      porc_eng  \\\n",
              "count         22735.0  22735.000000  22735.000000  22735.000000  22735.000000   \n",
              "mean              0.0     14.152083      5.244405    289.953552     22.809138   \n",
              "std               0.0     11.391702     17.398553    284.022483      6.083129   \n",
              "min               0.0    -15.000000    -47.000000      0.000000      2.750000   \n",
              "25%               0.0     10.000000     -5.500000      0.000000     18.450000   \n",
              "50%               0.0     12.000000      2.400000    427.000000     22.800000   \n",
              "75%               0.0     14.000000     20.550000    548.000000     25.570000   \n",
              "max               0.0     48.000000     58.000000    814.000000     45.700000   \n",
              "\n",
              "       limite_credito  semana_actual  edad_cliente  \n",
              "count    22735.000000   22735.000000  22735.000000  \n",
              "mean      5917.636824      20.237985     35.344874  \n",
              "std       2130.724972      13.969485     11.904960  \n",
              "min          0.000000       0.000000     14.000000  \n",
              "25%       4000.000000      11.000000     26.000000  \n",
              "50%       6000.000000      16.000000     34.000000  \n",
              "75%       7000.000000      26.000000     43.000000  \n",
              "max      12000.000000      64.000000     87.000000  \n",
              "\n",
              "[8 rows x 21 columns]"
            ],
            "text/html": [
              "\n",
              "  <div id=\"df-53d0f912-fee4-481b-8af7-5320f4946c08\" class=\"colab-df-container\">\n",
              "    <div>\n",
              "<style scoped>\n",
              "    .dataframe tbody tr th:only-of-type {\n",
              "        vertical-align: middle;\n",
              "    }\n",
              "\n",
              "    .dataframe tbody tr th {\n",
              "        vertical-align: top;\n",
              "    }\n",
              "\n",
              "    .dataframe thead th {\n",
              "        text-align: right;\n",
              "    }\n",
              "</style>\n",
              "<table border=\"1\" class=\"dataframe\">\n",
              "  <thead>\n",
              "    <tr style=\"text-align: right;\">\n",
              "      <th></th>\n",
              "      <th>folio</th>\n",
              "      <th>folio_solicitud</th>\n",
              "      <th>precio</th>\n",
              "      <th>enganche</th>\n",
              "      <th>descuento</th>\n",
              "      <th>semana</th>\n",
              "      <th>monto_financiado</th>\n",
              "      <th>costo_total</th>\n",
              "      <th>monto_accesorios</th>\n",
              "      <th>status</th>\n",
              "      <th>...</th>\n",
              "      <th>inversion</th>\n",
              "      <th>pagos_realizados</th>\n",
              "      <th>reautorizacion</th>\n",
              "      <th>puntos</th>\n",
              "      <th>riesgo</th>\n",
              "      <th>score_buro</th>\n",
              "      <th>porc_eng</th>\n",
              "      <th>limite_credito</th>\n",
              "      <th>semana_actual</th>\n",
              "      <th>edad_cliente</th>\n",
              "    </tr>\n",
              "  </thead>\n",
              "  <tbody>\n",
              "    <tr>\n",
              "      <th>count</th>\n",
              "      <td>22735.000000</td>\n",
              "      <td>22735.000000</td>\n",
              "      <td>22735.000000</td>\n",
              "      <td>22735.000000</td>\n",
              "      <td>22735.000000</td>\n",
              "      <td>22735.000000</td>\n",
              "      <td>22735.000000</td>\n",
              "      <td>22735.000000</td>\n",
              "      <td>22735.000000</td>\n",
              "      <td>22735.000000</td>\n",
              "      <td>...</td>\n",
              "      <td>22735.000000</td>\n",
              "      <td>22735.000000</td>\n",
              "      <td>22735.0</td>\n",
              "      <td>22735.000000</td>\n",
              "      <td>22735.000000</td>\n",
              "      <td>22735.000000</td>\n",
              "      <td>22735.000000</td>\n",
              "      <td>22735.000000</td>\n",
              "      <td>22735.000000</td>\n",
              "      <td>22735.000000</td>\n",
              "    </tr>\n",
              "    <tr>\n",
              "      <th>mean</th>\n",
              "      <td>11511.025951</td>\n",
              "      <td>45850.095711</td>\n",
              "      <td>3969.204786</td>\n",
              "      <td>897.571531</td>\n",
              "      <td>78.160343</td>\n",
              "      <td>231.393130</td>\n",
              "      <td>3043.789505</td>\n",
              "      <td>5588.620101</td>\n",
              "      <td>5.009721</td>\n",
              "      <td>1.243053</td>\n",
              "      <td>...</td>\n",
              "      <td>0.236596</td>\n",
              "      <td>9.916895</td>\n",
              "      <td>0.0</td>\n",
              "      <td>14.152083</td>\n",
              "      <td>5.244405</td>\n",
              "      <td>289.953552</td>\n",
              "      <td>22.809138</td>\n",
              "      <td>5917.636824</td>\n",
              "      <td>20.237985</td>\n",
              "      <td>35.344874</td>\n",
              "    </tr>\n",
              "    <tr>\n",
              "      <th>std</th>\n",
              "      <td>6604.027249</td>\n",
              "      <td>27291.270417</td>\n",
              "      <td>1295.204963</td>\n",
              "      <td>370.539236</td>\n",
              "      <td>132.746538</td>\n",
              "      <td>86.084072</td>\n",
              "      <td>1020.864637</td>\n",
              "      <td>2152.608806</td>\n",
              "      <td>23.849845</td>\n",
              "      <td>0.427671</td>\n",
              "      <td>...</td>\n",
              "      <td>0.425001</td>\n",
              "      <td>9.252767</td>\n",
              "      <td>0.0</td>\n",
              "      <td>11.391702</td>\n",
              "      <td>17.398553</td>\n",
              "      <td>284.022483</td>\n",
              "      <td>6.083129</td>\n",
              "      <td>2130.724972</td>\n",
              "      <td>13.969485</td>\n",
              "      <td>11.904960</td>\n",
              "    </tr>\n",
              "    <tr>\n",
              "      <th>min</th>\n",
              "      <td>3.000000</td>\n",
              "      <td>30.000000</td>\n",
              "      <td>973.240000</td>\n",
              "      <td>0.000000</td>\n",
              "      <td>0.000000</td>\n",
              "      <td>7.000000</td>\n",
              "      <td>249.000000</td>\n",
              "      <td>91.000000</td>\n",
              "      <td>0.000000</td>\n",
              "      <td>1.000000</td>\n",
              "      <td>...</td>\n",
              "      <td>0.000000</td>\n",
              "      <td>0.000000</td>\n",
              "      <td>0.0</td>\n",
              "      <td>-15.000000</td>\n",
              "      <td>-47.000000</td>\n",
              "      <td>0.000000</td>\n",
              "      <td>2.750000</td>\n",
              "      <td>0.000000</td>\n",
              "      <td>0.000000</td>\n",
              "      <td>14.000000</td>\n",
              "    </tr>\n",
              "    <tr>\n",
              "      <th>25%</th>\n",
              "      <td>5818.500000</td>\n",
              "      <td>21214.500000</td>\n",
              "      <td>3049.000000</td>\n",
              "      <td>625.500000</td>\n",
              "      <td>0.000000</td>\n",
              "      <td>170.000000</td>\n",
              "      <td>2363.000000</td>\n",
              "      <td>4056.000000</td>\n",
              "      <td>0.000000</td>\n",
              "      <td>1.000000</td>\n",
              "      <td>...</td>\n",
              "      <td>0.000000</td>\n",
              "      <td>2.000000</td>\n",
              "      <td>0.0</td>\n",
              "      <td>10.000000</td>\n",
              "      <td>-5.500000</td>\n",
              "      <td>0.000000</td>\n",
              "      <td>18.450000</td>\n",
              "      <td>4000.000000</td>\n",
              "      <td>11.000000</td>\n",
              "      <td>26.000000</td>\n",
              "    </tr>\n",
              "    <tr>\n",
              "      <th>50%</th>\n",
              "      <td>11520.000000</td>\n",
              "      <td>44938.000000</td>\n",
              "      <td>3549.000000</td>\n",
              "      <td>826.000000</td>\n",
              "      <td>0.000000</td>\n",
              "      <td>214.000000</td>\n",
              "      <td>2824.000000</td>\n",
              "      <td>5213.000000</td>\n",
              "      <td>0.000000</td>\n",
              "      <td>1.000000</td>\n",
              "      <td>...</td>\n",
              "      <td>0.000000</td>\n",
              "      <td>8.000000</td>\n",
              "      <td>0.0</td>\n",
              "      <td>12.000000</td>\n",
              "      <td>2.400000</td>\n",
              "      <td>427.000000</td>\n",
              "      <td>22.800000</td>\n",
              "      <td>6000.000000</td>\n",
              "      <td>16.000000</td>\n",
              "      <td>34.000000</td>\n",
              "    </tr>\n",
              "    <tr>\n",
              "      <th>75%</th>\n",
              "      <td>17224.500000</td>\n",
              "      <td>68485.500000</td>\n",
              "      <td>4849.000000</td>\n",
              "      <td>1091.000000</td>\n",
              "      <td>200.000000</td>\n",
              "      <td>279.000000</td>\n",
              "      <td>3658.880000</td>\n",
              "      <td>6747.000000</td>\n",
              "      <td>0.000000</td>\n",
              "      <td>1.000000</td>\n",
              "      <td>...</td>\n",
              "      <td>0.000000</td>\n",
              "      <td>15.000000</td>\n",
              "      <td>0.0</td>\n",
              "      <td>14.000000</td>\n",
              "      <td>20.550000</td>\n",
              "      <td>548.000000</td>\n",
              "      <td>25.570000</td>\n",
              "      <td>7000.000000</td>\n",
              "      <td>26.000000</td>\n",
              "      <td>43.000000</td>\n",
              "    </tr>\n",
              "    <tr>\n",
              "      <th>max</th>\n",
              "      <td>22971.000000</td>\n",
              "      <td>96536.000000</td>\n",
              "      <td>8069.000000</td>\n",
              "      <td>2349.000000</td>\n",
              "      <td>400.000000</td>\n",
              "      <td>541.000000</td>\n",
              "      <td>6366.010000</td>\n",
              "      <td>12844.000000</td>\n",
              "      <td>190.000000</td>\n",
              "      <td>2.000000</td>\n",
              "      <td>...</td>\n",
              "      <td>1.000000</td>\n",
              "      <td>39.000000</td>\n",
              "      <td>0.0</td>\n",
              "      <td>48.000000</td>\n",
              "      <td>58.000000</td>\n",
              "      <td>814.000000</td>\n",
              "      <td>45.700000</td>\n",
              "      <td>12000.000000</td>\n",
              "      <td>64.000000</td>\n",
              "      <td>87.000000</td>\n",
              "    </tr>\n",
              "  </tbody>\n",
              "</table>\n",
              "<p>8 rows × 21 columns</p>\n",
              "</div>\n",
              "    <div class=\"colab-df-buttons\">\n",
              "\n",
              "  <div class=\"colab-df-container\">\n",
              "    <button class=\"colab-df-convert\" onclick=\"convertToInteractive('df-53d0f912-fee4-481b-8af7-5320f4946c08')\"\n",
              "            title=\"Convert this dataframe to an interactive table.\"\n",
              "            style=\"display:none;\">\n",
              "\n",
              "  <svg xmlns=\"http://www.w3.org/2000/svg\" height=\"24px\" viewBox=\"0 -960 960 960\">\n",
              "    <path d=\"M120-120v-720h720v720H120Zm60-500h600v-160H180v160Zm220 220h160v-160H400v160Zm0 220h160v-160H400v160ZM180-400h160v-160H180v160Zm440 0h160v-160H620v160ZM180-180h160v-160H180v160Zm440 0h160v-160H620v160Z\"/>\n",
              "  </svg>\n",
              "    </button>\n",
              "\n",
              "  <style>\n",
              "    .colab-df-container {\n",
              "      display:flex;\n",
              "      gap: 12px;\n",
              "    }\n",
              "\n",
              "    .colab-df-convert {\n",
              "      background-color: #E8F0FE;\n",
              "      border: none;\n",
              "      border-radius: 50%;\n",
              "      cursor: pointer;\n",
              "      display: none;\n",
              "      fill: #1967D2;\n",
              "      height: 32px;\n",
              "      padding: 0 0 0 0;\n",
              "      width: 32px;\n",
              "    }\n",
              "\n",
              "    .colab-df-convert:hover {\n",
              "      background-color: #E2EBFA;\n",
              "      box-shadow: 0px 1px 2px rgba(60, 64, 67, 0.3), 0px 1px 3px 1px rgba(60, 64, 67, 0.15);\n",
              "      fill: #174EA6;\n",
              "    }\n",
              "\n",
              "    .colab-df-buttons div {\n",
              "      margin-bottom: 4px;\n",
              "    }\n",
              "\n",
              "    [theme=dark] .colab-df-convert {\n",
              "      background-color: #3B4455;\n",
              "      fill: #D2E3FC;\n",
              "    }\n",
              "\n",
              "    [theme=dark] .colab-df-convert:hover {\n",
              "      background-color: #434B5C;\n",
              "      box-shadow: 0px 1px 3px 1px rgba(0, 0, 0, 0.15);\n",
              "      filter: drop-shadow(0px 1px 2px rgba(0, 0, 0, 0.3));\n",
              "      fill: #FFFFFF;\n",
              "    }\n",
              "  </style>\n",
              "\n",
              "    <script>\n",
              "      const buttonEl =\n",
              "        document.querySelector('#df-53d0f912-fee4-481b-8af7-5320f4946c08 button.colab-df-convert');\n",
              "      buttonEl.style.display =\n",
              "        google.colab.kernel.accessAllowed ? 'block' : 'none';\n",
              "\n",
              "      async function convertToInteractive(key) {\n",
              "        const element = document.querySelector('#df-53d0f912-fee4-481b-8af7-5320f4946c08');\n",
              "        const dataTable =\n",
              "          await google.colab.kernel.invokeFunction('convertToInteractive',\n",
              "                                                    [key], {});\n",
              "        if (!dataTable) return;\n",
              "\n",
              "        const docLinkHtml = 'Like what you see? Visit the ' +\n",
              "          '<a target=\"_blank\" href=https://colab.research.google.com/notebooks/data_table.ipynb>data table notebook</a>'\n",
              "          + ' to learn more about interactive tables.';\n",
              "        element.innerHTML = '';\n",
              "        dataTable['output_type'] = 'display_data';\n",
              "        await google.colab.output.renderOutput(dataTable, element);\n",
              "        const docLink = document.createElement('div');\n",
              "        docLink.innerHTML = docLinkHtml;\n",
              "        element.appendChild(docLink);\n",
              "      }\n",
              "    </script>\n",
              "  </div>\n",
              "\n",
              "\n",
              "<div id=\"df-2c7b146d-565c-4ff0-9daa-6b7c9c99fa27\">\n",
              "  <button class=\"colab-df-quickchart\" onclick=\"quickchart('df-2c7b146d-565c-4ff0-9daa-6b7c9c99fa27')\"\n",
              "            title=\"Suggest charts.\"\n",
              "            style=\"display:none;\">\n",
              "\n",
              "<svg xmlns=\"http://www.w3.org/2000/svg\" height=\"24px\"viewBox=\"0 0 24 24\"\n",
              "     width=\"24px\">\n",
              "    <g>\n",
              "        <path d=\"M19 3H5c-1.1 0-2 .9-2 2v14c0 1.1.9 2 2 2h14c1.1 0 2-.9 2-2V5c0-1.1-.9-2-2-2zM9 17H7v-7h2v7zm4 0h-2V7h2v10zm4 0h-2v-4h2v4z\"/>\n",
              "    </g>\n",
              "</svg>\n",
              "  </button>\n",
              "\n",
              "<style>\n",
              "  .colab-df-quickchart {\n",
              "      --bg-color: #E8F0FE;\n",
              "      --fill-color: #1967D2;\n",
              "      --hover-bg-color: #E2EBFA;\n",
              "      --hover-fill-color: #174EA6;\n",
              "      --disabled-fill-color: #AAA;\n",
              "      --disabled-bg-color: #DDD;\n",
              "  }\n",
              "\n",
              "  [theme=dark] .colab-df-quickchart {\n",
              "      --bg-color: #3B4455;\n",
              "      --fill-color: #D2E3FC;\n",
              "      --hover-bg-color: #434B5C;\n",
              "      --hover-fill-color: #FFFFFF;\n",
              "      --disabled-bg-color: #3B4455;\n",
              "      --disabled-fill-color: #666;\n",
              "  }\n",
              "\n",
              "  .colab-df-quickchart {\n",
              "    background-color: var(--bg-color);\n",
              "    border: none;\n",
              "    border-radius: 50%;\n",
              "    cursor: pointer;\n",
              "    display: none;\n",
              "    fill: var(--fill-color);\n",
              "    height: 32px;\n",
              "    padding: 0;\n",
              "    width: 32px;\n",
              "  }\n",
              "\n",
              "  .colab-df-quickchart:hover {\n",
              "    background-color: var(--hover-bg-color);\n",
              "    box-shadow: 0 1px 2px rgba(60, 64, 67, 0.3), 0 1px 3px 1px rgba(60, 64, 67, 0.15);\n",
              "    fill: var(--button-hover-fill-color);\n",
              "  }\n",
              "\n",
              "  .colab-df-quickchart-complete:disabled,\n",
              "  .colab-df-quickchart-complete:disabled:hover {\n",
              "    background-color: var(--disabled-bg-color);\n",
              "    fill: var(--disabled-fill-color);\n",
              "    box-shadow: none;\n",
              "  }\n",
              "\n",
              "  .colab-df-spinner {\n",
              "    border: 2px solid var(--fill-color);\n",
              "    border-color: transparent;\n",
              "    border-bottom-color: var(--fill-color);\n",
              "    animation:\n",
              "      spin 1s steps(1) infinite;\n",
              "  }\n",
              "\n",
              "  @keyframes spin {\n",
              "    0% {\n",
              "      border-color: transparent;\n",
              "      border-bottom-color: var(--fill-color);\n",
              "      border-left-color: var(--fill-color);\n",
              "    }\n",
              "    20% {\n",
              "      border-color: transparent;\n",
              "      border-left-color: var(--fill-color);\n",
              "      border-top-color: var(--fill-color);\n",
              "    }\n",
              "    30% {\n",
              "      border-color: transparent;\n",
              "      border-left-color: var(--fill-color);\n",
              "      border-top-color: var(--fill-color);\n",
              "      border-right-color: var(--fill-color);\n",
              "    }\n",
              "    40% {\n",
              "      border-color: transparent;\n",
              "      border-right-color: var(--fill-color);\n",
              "      border-top-color: var(--fill-color);\n",
              "    }\n",
              "    60% {\n",
              "      border-color: transparent;\n",
              "      border-right-color: var(--fill-color);\n",
              "    }\n",
              "    80% {\n",
              "      border-color: transparent;\n",
              "      border-right-color: var(--fill-color);\n",
              "      border-bottom-color: var(--fill-color);\n",
              "    }\n",
              "    90% {\n",
              "      border-color: transparent;\n",
              "      border-bottom-color: var(--fill-color);\n",
              "    }\n",
              "  }\n",
              "</style>\n",
              "\n",
              "  <script>\n",
              "    async function quickchart(key) {\n",
              "      const quickchartButtonEl =\n",
              "        document.querySelector('#' + key + ' button');\n",
              "      quickchartButtonEl.disabled = true;  // To prevent multiple clicks.\n",
              "      quickchartButtonEl.classList.add('colab-df-spinner');\n",
              "      try {\n",
              "        const charts = await google.colab.kernel.invokeFunction(\n",
              "            'suggestCharts', [key], {});\n",
              "      } catch (error) {\n",
              "        console.error('Error during call to suggestCharts:', error);\n",
              "      }\n",
              "      quickchartButtonEl.classList.remove('colab-df-spinner');\n",
              "      quickchartButtonEl.classList.add('colab-df-quickchart-complete');\n",
              "    }\n",
              "    (() => {\n",
              "      let quickchartButtonEl =\n",
              "        document.querySelector('#df-2c7b146d-565c-4ff0-9daa-6b7c9c99fa27 button');\n",
              "      quickchartButtonEl.style.display =\n",
              "        google.colab.kernel.accessAllowed ? 'block' : 'none';\n",
              "    })();\n",
              "  </script>\n",
              "</div>\n",
              "    </div>\n",
              "  </div>\n"
            ]
          },
          "metadata": {},
          "execution_count": 227
        }
      ],
      "source": [
        "#Cambiamos las columnas númericas del df por las que se han dado tratamiento\n",
        "# a los outliers\n",
        "for columna in y.columns:\n",
        "    df[columna] = y[columna]\n",
        "# volvemos a obtener las medidas estadísticas para verificar que se hayan\n",
        "# hecho los cambios en el df\n",
        "df.describe()\n",
        "\n",
        "#Se puede observar la diferencia en la columna 'precio'\n",
        "#debido a que era una de las que contenia outliers"
      ]
    },
    {
      "cell_type": "code",
      "execution_count": 228,
      "metadata": {
        "colab": {
          "base_uri": "https://localhost:8080/"
        },
        "id": "6uNmtAiQX3Wa",
        "outputId": "e5308423-8651-45fb-cce6-536a3585a716"
      },
      "outputs": [
        {
          "output_type": "stream",
          "name": "stdout",
          "text": [
            "<class 'pandas.core.frame.DataFrame'>\n",
            "RangeIndex: 22735 entries, 0 to 22734\n",
            "Data columns (total 39 columns):\n",
            " #   Column              Non-Null Count  Dtype  \n",
            "---  ------              --------------  -----  \n",
            " 0   folio               22735 non-null  int64  \n",
            " 1   tag                 22735 non-null  object \n",
            " 2   folio_solicitud     22735 non-null  int64  \n",
            " 3   fecha               22735 non-null  object \n",
            " 4   marca               22735 non-null  object \n",
            " 5   modelo              22735 non-null  object \n",
            " 6   plazo               22735 non-null  object \n",
            " 7   precio              22735 non-null  float64\n",
            " 8   enganche            22735 non-null  float64\n",
            " 9   descuento           22735 non-null  float64\n",
            " 10  semana              22735 non-null  float64\n",
            " 11  monto_financiado    22735 non-null  float64\n",
            " 12  costo_total         22735 non-null  float64\n",
            " 13  monto_accesorios    22735 non-null  float64\n",
            " 14  agente_venta        22735 non-null  object \n",
            " 15  dis_venta           22735 non-null  object \n",
            " 16  status              22735 non-null  float64\n",
            " 17  fraude              22735 non-null  float64\n",
            " 18  empresa             22735 non-null  object \n",
            " 19  inversion           22735 non-null  int64  \n",
            " 20  pagos_realizados    22735 non-null  float64\n",
            " 21  reautorizacion      22735 non-null  float64\n",
            " 22  fecha_ultimo_pago   22735 non-null  object \n",
            " 23  fecha_pago_proximo  22735 non-null  object \n",
            " 24  status_cuenta       22735 non-null  object \n",
            " 25  puntos              22735 non-null  float64\n",
            " 26  riesgo              22735 non-null  float64\n",
            " 27  score_buro          22735 non-null  int64  \n",
            " 28  razones_buro        22735 non-null  object \n",
            " 29  porc_eng            22735 non-null  float64\n",
            " 30  limite_credito      22735 non-null  float64\n",
            " 31  semana_actual       22735 non-null  float64\n",
            " 32  cp_cliente          22735 non-null  object \n",
            " 33  edad_cliente        22735 non-null  float64\n",
            " 34  cd_cliente          22735 non-null  object \n",
            " 35  edo_cliente         22735 non-null  object \n",
            " 36  cd_venta            22735 non-null  object \n",
            " 37  edo_venta           22735 non-null  object \n",
            " 38  curp                22735 non-null  object \n",
            "dtypes: float64(17), int64(4), object(18)\n",
            "memory usage: 6.8+ MB\n"
          ]
        }
      ],
      "source": [
        "df.info()"
      ]
    },
    {
      "cell_type": "code",
      "source": [
        "valores_unicos_por_columna = df.nunique()\n",
        "\n",
        "print(valores_unicos_por_columna)"
      ],
      "metadata": {
        "colab": {
          "base_uri": "https://localhost:8080/"
        },
        "id": "VvIY9bb5nuWB",
        "outputId": "4c16afd0-a7f3-4b00-bdfd-7b9ab587b98b"
      },
      "execution_count": 229,
      "outputs": [
        {
          "output_type": "stream",
          "name": "stdout",
          "text": [
            "folio                 22735\n",
            "tag                   22735\n",
            "folio_solicitud       22727\n",
            "fecha                 21590\n",
            "marca                    29\n",
            "modelo                  366\n",
            "plazo                     4\n",
            "precio                  483\n",
            "enganche               1647\n",
            "descuento                26\n",
            "semana                  489\n",
            "monto_financiado       7108\n",
            "costo_total             790\n",
            "monto_accesorios         88\n",
            "agente_venta           1102\n",
            "dis_venta               585\n",
            "status                    3\n",
            "fraude                    1\n",
            "empresa                  48\n",
            "inversion                 2\n",
            "pagos_realizados         41\n",
            "reautorizacion            1\n",
            "fecha_ultimo_pago       730\n",
            "fecha_pago_proximo      468\n",
            "status_cuenta             5\n",
            "puntos                   59\n",
            "riesgo                 1596\n",
            "score_buro              391\n",
            "razones_buro           1000\n",
            "porc_eng               2595\n",
            "limite_credito           31\n",
            "semana_actual            66\n",
            "cp_cliente             3069\n",
            "edad_cliente             70\n",
            "cd_cliente             1921\n",
            "edo_cliente             280\n",
            "cd_venta                282\n",
            "edo_venta                29\n",
            "curp                  21749\n",
            "dtype: int64\n"
          ]
        }
      ]
    },
    {
      "cell_type": "code",
      "source": [
        "df['inversion'].value_counts()"
      ],
      "metadata": {
        "colab": {
          "base_uri": "https://localhost:8080/"
        },
        "id": "1xGGdWewq91B",
        "outputId": "e940ff6e-1b1b-40a5-d41f-dab4e5223dea"
      },
      "execution_count": 230,
      "outputs": [
        {
          "output_type": "execute_result",
          "data": {
            "text/plain": [
              "0    17356\n",
              "1     5379\n",
              "Name: inversion, dtype: int64"
            ]
          },
          "metadata": {},
          "execution_count": 230
        }
      ]
    },
    {
      "cell_type": "code",
      "source": [
        "df['status'].value_counts()"
      ],
      "metadata": {
        "colab": {
          "base_uri": "https://localhost:8080/"
        },
        "id": "qHGzwjFFqMEp",
        "outputId": "0dc530f6-7989-4883-a423-7a6856e273d5"
      },
      "execution_count": 231,
      "outputs": [
        {
          "output_type": "execute_result",
          "data": {
            "text/plain": [
              "1.0    17086\n",
              "2.0     5495\n",
              "1.2      154\n",
              "Name: status, dtype: int64"
            ]
          },
          "metadata": {},
          "execution_count": 231
        }
      ]
    },
    {
      "cell_type": "code",
      "source": [
        "df['plazo'].value_counts()"
      ],
      "metadata": {
        "colab": {
          "base_uri": "https://localhost:8080/"
        },
        "id": "fvzDMzHHqsBD",
        "outputId": "969d6901-4b20-4718-9236-e6077b409f71"
      },
      "execution_count": 232,
      "outputs": [
        {
          "output_type": "execute_result",
          "data": {
            "text/plain": [
              "26S    10663\n",
              "13S     6340\n",
              "39S     5282\n",
              "52S      450\n",
              "Name: plazo, dtype: int64"
            ]
          },
          "metadata": {},
          "execution_count": 232
        }
      ]
    },
    {
      "cell_type": "code",
      "source": [
        "df['status_cuenta'].value_counts()"
      ],
      "metadata": {
        "colab": {
          "base_uri": "https://localhost:8080/"
        },
        "id": "U-GKG9HqrJJq",
        "outputId": "2d700d86-0207-499f-dbdd-556ac4960df8"
      },
      "execution_count": 233,
      "outputs": [
        {
          "output_type": "execute_result",
          "data": {
            "text/plain": [
              "Corriente    13328\n",
              "Mora          4604\n",
              "Atraso        2960\n",
              "Fraude        1696\n",
              "Cancelado      147\n",
              "Name: status_cuenta, dtype: int64"
            ]
          },
          "metadata": {},
          "execution_count": 233
        }
      ]
    },
    {
      "cell_type": "code",
      "source": [
        "df['marca'].value_counts()"
      ],
      "metadata": {
        "colab": {
          "base_uri": "https://localhost:8080/"
        },
        "id": "cZnwseW6rZeh",
        "outputId": "14fab120-8dba-4a6f-8820-3fa966428dde"
      },
      "execution_count": 234,
      "outputs": [
        {
          "output_type": "execute_result",
          "data": {
            "text/plain": [
              "Samsung         8991\n",
              "SAMSUNG         3524\n",
              "MOTOROLA        3078\n",
              "ZTE             1948\n",
              "Motorola        1658\n",
              "NOKIA           1121\n",
              "TECNO MOBILE     833\n",
              "Hisense          371\n",
              "HISENSE          270\n",
              "Nokia            262\n",
              "ALCATEL          215\n",
              "TCL              113\n",
              "Alcatel          101\n",
              "Lanix             90\n",
              "VIVO              60\n",
              "Vivo              45\n",
              "LG                20\n",
              "WIKO               9\n",
              "NYX                7\n",
              "B2M                4\n",
              "KODAK              3\n",
              "RT                 3\n",
              "LANIX              2\n",
              "INCO               2\n",
              "Huawei             1\n",
              "SENWA              1\n",
              "alcatel            1\n",
              "Senwa              1\n",
              "TECHPAD            1\n",
              "Name: marca, dtype: int64"
            ]
          },
          "metadata": {},
          "execution_count": 234
        }
      ]
    },
    {
      "cell_type": "code",
      "source": [
        "df.loc[df['marca'] == 'SAMSUNG', 'marca'] = 'Samsung'"
      ],
      "metadata": {
        "id": "gHCPBIuNrp1D"
      },
      "execution_count": 235,
      "outputs": []
    },
    {
      "cell_type": "code",
      "source": [
        "df.loc[df['marca'] == 'MOTOROLA', 'marca'] = 'Motorola'"
      ],
      "metadata": {
        "id": "HsZlG4E2sT9Y"
      },
      "execution_count": 236,
      "outputs": []
    },
    {
      "cell_type": "code",
      "source": [
        "df['marca'].value_counts()"
      ],
      "metadata": {
        "colab": {
          "base_uri": "https://localhost:8080/"
        },
        "id": "jhpNkIq3sOja",
        "outputId": "95ab159f-42fc-4e23-fd22-dc3f77151aa6"
      },
      "execution_count": 237,
      "outputs": [
        {
          "output_type": "execute_result",
          "data": {
            "text/plain": [
              "Samsung         12515\n",
              "Motorola         4736\n",
              "ZTE              1948\n",
              "NOKIA            1121\n",
              "TECNO MOBILE      833\n",
              "Hisense           371\n",
              "HISENSE           270\n",
              "Nokia             262\n",
              "ALCATEL           215\n",
              "TCL               113\n",
              "Alcatel           101\n",
              "Lanix              90\n",
              "VIVO               60\n",
              "Vivo               45\n",
              "LG                 20\n",
              "WIKO                9\n",
              "NYX                 7\n",
              "B2M                 4\n",
              "KODAK               3\n",
              "RT                  3\n",
              "LANIX               2\n",
              "INCO                2\n",
              "Huawei              1\n",
              "SENWA               1\n",
              "alcatel             1\n",
              "Senwa               1\n",
              "TECHPAD             1\n",
              "Name: marca, dtype: int64"
            ]
          },
          "metadata": {},
          "execution_count": 237
        }
      ]
    },
    {
      "cell_type": "markdown",
      "source": [
        "##Convertir las variables que sean necesarias en variables de tipo  dicotómica con las categorías que se consideren pertinentes, aplicando la herramienta de  “Regresión Logística”"
      ],
      "metadata": {
        "id": "Qry5CziwqoOo"
      }
    },
    {
      "cell_type": "code",
      "source": [
        "df['status']= df['status'].replace([1.2], 1)\n",
        "# Status como variable dependiente\n",
        "df1 = df.copy()"
      ],
      "metadata": {
        "id": "BRm8GRBoqrAf"
      },
      "execution_count": 238,
      "outputs": []
    },
    {
      "cell_type": "code",
      "source": [
        "#Inversion como variable dependiente\n",
        "df2 = df.copy()"
      ],
      "metadata": {
        "id": "jzNaCyobqrBJ"
      },
      "execution_count": 239,
      "outputs": []
    },
    {
      "cell_type": "code",
      "source": [
        "#Plazo como variable dependiente, solo se selecionaron los plazos mas registrados\n",
        "df3 = df[(df['plazo'].str.contains('26S|13S'))]"
      ],
      "metadata": {
        "id": "nt6PlK4Mt04T"
      },
      "execution_count": 240,
      "outputs": []
    },
    {
      "cell_type": "code",
      "source": [
        "#Status_cuenta como variable dependiente, solo se selecionaron los status de cuenta mas registrados\n",
        "df4 = df[(df['status_cuenta'].str.contains('Corriente|Mora'))]"
      ],
      "metadata": {
        "id": "_TS916oAuoUA"
      },
      "execution_count": 241,
      "outputs": []
    },
    {
      "cell_type": "code",
      "source": [
        "#Marca como variable dependiente, solo se selecionaron las marcas mas registradas\n",
        "df5 = df[(df['marca'].str.contains('Samsung|Motorola'))]"
      ],
      "metadata": {
        "id": "BBu2Xai4qrLE"
      },
      "execution_count": 242,
      "outputs": []
    },
    {
      "cell_type": "code",
      "source": [
        "# DF para almacenar los coeficientes del modelo\n",
        "coeficientes = pd.DataFrame(columns=['Variable', 'Modelo', 'Precision', 'Exactitud', 'Sensibilidad'])"
      ],
      "metadata": {
        "id": "lcFR4zkYhfaK"
      },
      "execution_count": 243,
      "outputs": []
    },
    {
      "cell_type": "markdown",
      "source": [
        "## Analizar 10 casos de correlación logística que existe entre diferentes variables de nuestra base de datos, aplicando la herramienta de “Regresión Logística”"
      ],
      "metadata": {
        "id": "lOHlSFgPvUU_"
      }
    },
    {
      "cell_type": "markdown",
      "source": [
        "###Modelo 1"
      ],
      "metadata": {
        "id": "MpwBNa-Gimoz"
      }
    },
    {
      "cell_type": "code",
      "source": [
        "#Declaramos las variables dependientes e independientes para la regresión Logística\n",
        "Vars_Indep= df1[['precio', 'puntos', 'riesgo']]\n",
        "Var_Dep= df1['status']\n",
        "X= Vars_Indep\n",
        "y= Var_Dep\n",
        "#Dividimos el conjunto de datos en la parte de entrenamiento y prueba:\n",
        "X_train, X_test, y_train, y_test = train_test_split(X, y, test_size=0.3, random_state =None)"
      ],
      "metadata": {
        "id": "-A_sNTbz8jHB"
      },
      "execution_count": 244,
      "outputs": []
    },
    {
      "cell_type": "code",
      "source": [
        "#Se escalan todos los datos\n",
        "escalar = StandardScaler()\n",
        "#Para realizar el escalamiento de las variables “X” tanto de entrenamiento como de prueba, utilizaremos fit_transform\n",
        "X_train = escalar.fit_transform(X_train)\n",
        "X_test = escalar.transform(X_test)"
      ],
      "metadata": {
        "id": "FJ8YzI3x-CAz"
      },
      "execution_count": 245,
      "outputs": []
    },
    {
      "cell_type": "code",
      "source": [
        "#Definimos el algoritmo a utilizar\n",
        "from sklearn.linear_model import LogisticRegression\n",
        "algoritmo = LogisticRegression()\n",
        "#Entrenamos el modelo\n",
        "algoritmo.fit(X_train, y_train)\n",
        "#Realizamos una predicción\n",
        "y_pred = algoritmo.predict(X_test)\n",
        "y_pred"
      ],
      "metadata": {
        "id": "GRnSZiRw-ZNw",
        "colab": {
          "base_uri": "https://localhost:8080/"
        },
        "outputId": "03f888c2-4d3c-43a9-9516-967e00e050e7"
      },
      "execution_count": 246,
      "outputs": [
        {
          "output_type": "execute_result",
          "data": {
            "text/plain": [
              "array([1., 1., 1., ..., 1., 1., 1.])"
            ]
          },
          "metadata": {},
          "execution_count": 246
        }
      ]
    },
    {
      "cell_type": "code",
      "source": [
        "#Visualizamos la matriz de Confusión\n",
        "from sklearn.metrics import confusion_matrix\n",
        "matriz = confusion_matrix(y_test, y_pred)\n",
        "print('Matriz de Confusión:')\n",
        "print(matriz)"
      ],
      "metadata": {
        "colab": {
          "base_uri": "https://localhost:8080/"
        },
        "id": "Wg2Z3U04_o61",
        "outputId": "58e1b191-6792-447d-9347-9f7dace5dc83"
      },
      "execution_count": 247,
      "outputs": [
        {
          "output_type": "stream",
          "name": "stdout",
          "text": [
            "Matriz de Confusión:\n",
            "[[5118    4]\n",
            " [1696    3]]\n"
          ]
        }
      ]
    },
    {
      "cell_type": "code",
      "source": [
        "#Calculamos las medidas de presición, exactitud y sensibilidad\n",
        "precision = precision_score(y_test, y_pred, average=\"binary\", pos_label=1)\n",
        "exactitud = accuracy_score(y_test, y_pred)\n",
        "sensibilidad = recall_score(y_test, y_pred, average=\"binary\", pos_label=1)\n",
        "coeficientes.loc[0] = ['Status', 'Modelo 1', round(precision,2), round(exactitud,2), round(sensibilidad,2)]"
      ],
      "metadata": {
        "id": "QHOw8jHIAvB2"
      },
      "execution_count": 248,
      "outputs": []
    },
    {
      "cell_type": "markdown",
      "source": [
        "###Modelo 2"
      ],
      "metadata": {
        "id": "YatpWpGZiu3m"
      }
    },
    {
      "cell_type": "code",
      "source": [
        "#Declaramos las variables dependientes e independientes para la regresión Logística\n",
        "Vars_Indep= df1[['monto_financiado', 'edad_cliente']]\n",
        "Var_Dep= df1['status']\n",
        "X= Vars_Indep\n",
        "y= Var_Dep\n",
        "#Dividimos el conjunto de datos en la parte de entrenamiento y prueba:\n",
        "X_train, X_test, y_train, y_test = train_test_split(X, y, test_size=0.3, random_state =None)"
      ],
      "metadata": {
        "id": "0TTjjwNriu3m"
      },
      "execution_count": 249,
      "outputs": []
    },
    {
      "cell_type": "code",
      "source": [
        "#Se escalan todos los datos\n",
        "escalar = StandardScaler()\n",
        "#Para realizar el escalamiento de las variables “X” tanto de entrenamiento como de prueba, utilizaremos fit_transform\n",
        "X_train = escalar.fit_transform(X_train)\n",
        "X_test = escalar.transform(X_test)"
      ],
      "metadata": {
        "id": "3N_DZ-hWiu3m"
      },
      "execution_count": 250,
      "outputs": []
    },
    {
      "cell_type": "code",
      "source": [
        "#Definimos el algoritmo a utilizar\n",
        "from sklearn.linear_model import LogisticRegression\n",
        "algoritmo = LogisticRegression()\n",
        "#Entrenamos el modelo\n",
        "algoritmo.fit(X_train, y_train)\n",
        "#Realizamos una predicción\n",
        "y_pred = algoritmo.predict(X_test)\n",
        "y_pred"
      ],
      "metadata": {
        "colab": {
          "base_uri": "https://localhost:8080/"
        },
        "id": "Z6z6OQWPiu3n",
        "outputId": "681f1dd6-311a-46fa-a039-7fc32a3c366f"
      },
      "execution_count": 251,
      "outputs": [
        {
          "output_type": "execute_result",
          "data": {
            "text/plain": [
              "array([1., 1., 1., ..., 1., 1., 1.])"
            ]
          },
          "metadata": {},
          "execution_count": 251
        }
      ]
    },
    {
      "cell_type": "code",
      "source": [
        "#Visualizamos la matriz de Confusión\n",
        "from sklearn.metrics import confusion_matrix\n",
        "matriz = confusion_matrix(y_test, y_pred)\n",
        "print('Matriz de Confusión:')\n",
        "print(matriz)"
      ],
      "metadata": {
        "colab": {
          "base_uri": "https://localhost:8080/"
        },
        "outputId": "03651b5d-6388-41c0-f124-cb1737a8bf2d",
        "id": "AEsEF2huiu3n"
      },
      "execution_count": 252,
      "outputs": [
        {
          "output_type": "stream",
          "name": "stdout",
          "text": [
            "Matriz de Confusión:\n",
            "[[5138    0]\n",
            " [1683    0]]\n"
          ]
        }
      ]
    },
    {
      "cell_type": "code",
      "source": [
        "#Calculamos las medidas de presición, exactitud y sensibilidad\n",
        "precision = precision_score(y_test, y_pred, average=\"binary\", pos_label=1)\n",
        "exactitud = accuracy_score(y_test, y_pred)\n",
        "sensibilidad = recall_score(y_test, y_pred, average=\"binary\", pos_label=1)\n",
        "coeficientes.loc[1] = ['Status', 'Modelo 2', round(precision,2), round(exactitud,2), round(sensibilidad,2)]"
      ],
      "metadata": {
        "id": "shULaKIniu3n"
      },
      "execution_count": 253,
      "outputs": []
    },
    {
      "cell_type": "markdown",
      "source": [
        "###Modelo 3"
      ],
      "metadata": {
        "id": "pZ0FcLn1jpcS"
      }
    },
    {
      "cell_type": "code",
      "source": [
        "#Declaramos las variables dependientes e independientes para la regresión Logística\n",
        "Vars_Indep= df2[['enganche', 'score_buro', 'riesgo']]\n",
        "Var_Dep= df2['inversion']\n",
        "X= Vars_Indep\n",
        "y= Var_Dep\n",
        "#Dividimos el conjunto de datos en la parte de entrenamiento y prueba:\n",
        "X_train, X_test, y_train, y_test = train_test_split(X, y, test_size=0.3, random_state =None)"
      ],
      "metadata": {
        "id": "9OyKb9T4jpcS"
      },
      "execution_count": 254,
      "outputs": []
    },
    {
      "cell_type": "code",
      "source": [
        "#Se escalan todos los datos\n",
        "escalar = StandardScaler()\n",
        "#Para realizar el escalamiento de las variables “X” tanto de entrenamiento como de prueba, utilizaremos fit_transform\n",
        "X_train = escalar.fit_transform(X_train)\n",
        "X_test = escalar.transform(X_test)"
      ],
      "metadata": {
        "id": "WQIXjrwNjpcT"
      },
      "execution_count": 255,
      "outputs": []
    },
    {
      "cell_type": "code",
      "source": [
        "#Definimos el algoritmo a utilizar\n",
        "from sklearn.linear_model import LogisticRegression\n",
        "algoritmo = LogisticRegression()\n",
        "#Entrenamos el modelo\n",
        "algoritmo.fit(X_train, y_train)\n",
        "#Realizamos una predicción\n",
        "y_pred = algoritmo.predict(X_test)\n",
        "y_pred"
      ],
      "metadata": {
        "colab": {
          "base_uri": "https://localhost:8080/"
        },
        "id": "VCzVpF7KjpcT",
        "outputId": "a770704e-029d-48f6-bf10-f4bd3e70e5da"
      },
      "execution_count": 256,
      "outputs": [
        {
          "output_type": "execute_result",
          "data": {
            "text/plain": [
              "array([0, 0, 0, ..., 0, 0, 0])"
            ]
          },
          "metadata": {},
          "execution_count": 256
        }
      ]
    },
    {
      "cell_type": "code",
      "source": [
        "#Visualizamos la matriz de Confusión\n",
        "from sklearn.metrics import confusion_matrix\n",
        "matriz = confusion_matrix(y_test, y_pred)\n",
        "print('Matriz de Confusión:')\n",
        "print(matriz)"
      ],
      "metadata": {
        "colab": {
          "base_uri": "https://localhost:8080/"
        },
        "outputId": "8534bd86-7986-4f7a-e178-b5cdaf0aa664",
        "id": "wEmJ0fgbjpcT"
      },
      "execution_count": 257,
      "outputs": [
        {
          "output_type": "stream",
          "name": "stdout",
          "text": [
            "Matriz de Confusión:\n",
            "[[5181    0]\n",
            " [1640    0]]\n"
          ]
        }
      ]
    },
    {
      "cell_type": "code",
      "source": [
        "#Calculamos las medidas de presición, exactitud y sensibilidad\n",
        "precision = precision_score(y_test, y_pred, average=\"binary\", pos_label=0)\n",
        "exactitud = accuracy_score(y_test, y_pred)\n",
        "sensibilidad = recall_score(y_test, y_pred, average=\"binary\", pos_label=0)\n",
        "coeficientes.loc[2] = ['Inversión', 'Modelo 3', round(precision,2), round(exactitud,2), round(sensibilidad,2)]"
      ],
      "metadata": {
        "id": "E1pJvVlgjpcT"
      },
      "execution_count": 258,
      "outputs": []
    },
    {
      "cell_type": "markdown",
      "source": [
        "###Modelo 4"
      ],
      "metadata": {
        "id": "k7b-s-ZVlipC"
      }
    },
    {
      "cell_type": "code",
      "source": [
        "#Declaramos las variables dependientes e independientes para la regresión Logística\n",
        "Vars_Indep= df2[['pagos_realizados', 'edad_cliente', 'riesgo']]\n",
        "Var_Dep= df2['inversion']\n",
        "X= Vars_Indep\n",
        "y= Var_Dep\n",
        "#Dividimos el conjunto de datos en la parte de entrenamiento y prueba:\n",
        "X_train, X_test, y_train, y_test = train_test_split(X, y, test_size=0.3, random_state =None)"
      ],
      "metadata": {
        "id": "amo-lxjOlipD"
      },
      "execution_count": 259,
      "outputs": []
    },
    {
      "cell_type": "code",
      "source": [
        "#Se escalan todos los datos\n",
        "escalar = StandardScaler()\n",
        "#Para realizar el escalamiento de las variables “X” tanto de entrenamiento como de prueba, utilizaremos fit_transform\n",
        "X_train = escalar.fit_transform(X_train)\n",
        "X_test = escalar.transform(X_test)"
      ],
      "metadata": {
        "id": "nqKrDwu0lipD"
      },
      "execution_count": 260,
      "outputs": []
    },
    {
      "cell_type": "code",
      "source": [
        "#Definimos el algoritmo a utilizar\n",
        "from sklearn.linear_model import LogisticRegression\n",
        "algoritmo = LogisticRegression()\n",
        "#Entrenamos el modelo\n",
        "algoritmo.fit(X_train, y_train)\n",
        "#Realizamos una predicción\n",
        "y_pred = algoritmo.predict(X_test)\n",
        "y_pred"
      ],
      "metadata": {
        "colab": {
          "base_uri": "https://localhost:8080/"
        },
        "outputId": "6697bb20-632a-42e1-f75f-6e015ba00e39",
        "id": "vr3pLgPwlipD"
      },
      "execution_count": 261,
      "outputs": [
        {
          "output_type": "execute_result",
          "data": {
            "text/plain": [
              "array([0, 0, 0, ..., 0, 0, 0])"
            ]
          },
          "metadata": {},
          "execution_count": 261
        }
      ]
    },
    {
      "cell_type": "code",
      "source": [
        "#Visualizamos la matriz de Confusión\n",
        "from sklearn.metrics import confusion_matrix\n",
        "matriz = confusion_matrix(y_test, y_pred)\n",
        "print('Matriz de Confusión:')\n",
        "print(matriz)"
      ],
      "metadata": {
        "colab": {
          "base_uri": "https://localhost:8080/"
        },
        "outputId": "6beb142c-bca6-43c3-8f5c-8449e8099f3e",
        "id": "ROQLvswplipD"
      },
      "execution_count": 262,
      "outputs": [
        {
          "output_type": "stream",
          "name": "stdout",
          "text": [
            "Matriz de Confusión:\n",
            "[[5165   80]\n",
            " [1541   35]]\n"
          ]
        }
      ]
    },
    {
      "cell_type": "code",
      "source": [
        "#Calculamos las medidas de presición, exactitud y sensibilidad\n",
        "precision = precision_score(y_test, y_pred, average=\"binary\", pos_label=0)\n",
        "exactitud = accuracy_score(y_test, y_pred)\n",
        "sensibilidad = recall_score(y_test, y_pred, average=\"binary\", pos_label=0)\n",
        "coeficientes.loc[3] = ['Inversión', 'Modelo 4', round(precision,2), round(exactitud,2), round(sensibilidad,2)]"
      ],
      "metadata": {
        "id": "Sq3ZjAiqlipD"
      },
      "execution_count": 263,
      "outputs": []
    },
    {
      "cell_type": "markdown",
      "source": [
        "###Modelo 5"
      ],
      "metadata": {
        "id": "ayk43gs3tEZ_"
      }
    },
    {
      "cell_type": "code",
      "source": [
        "#Declaramos las variables dependientes e independientes para la regresión Logística\n",
        "Vars_Indep= df3[['porc_eng', 'monto_financiado', 'riesgo']]\n",
        "Var_Dep= df3['plazo']\n",
        "X= Vars_Indep\n",
        "y= Var_Dep\n",
        "#Dividimos el conjunto de datos en la parte de entrenamiento y prueba:\n",
        "X_train, X_test, y_train, y_test = train_test_split(X, y, test_size=0.3, random_state =None)"
      ],
      "metadata": {
        "id": "rgN2mSVdtEaK"
      },
      "execution_count": 264,
      "outputs": []
    },
    {
      "cell_type": "code",
      "source": [
        "#Se escalan todos los datos\n",
        "escalar = StandardScaler()\n",
        "#Para realizar el escalamiento de las variables “X” tanto de entrenamiento como de prueba, utilizaremos fit_transform\n",
        "X_train = escalar.fit_transform(X_train)\n",
        "X_test = escalar.transform(X_test)"
      ],
      "metadata": {
        "id": "bdlkegv2tEaK"
      },
      "execution_count": 265,
      "outputs": []
    },
    {
      "cell_type": "code",
      "source": [
        "#Definimos el algoritmo a utilizar\n",
        "from sklearn.linear_model import LogisticRegression\n",
        "algoritmo = LogisticRegression()\n",
        "#Entrenamos el modelo\n",
        "algoritmo.fit(X_train, y_train)\n",
        "#Realizamos una predicción\n",
        "y_pred = algoritmo.predict(X_test)\n",
        "y_pred"
      ],
      "metadata": {
        "colab": {
          "base_uri": "https://localhost:8080/"
        },
        "outputId": "7567d3a7-b77d-4d2c-867c-7f00691279c4",
        "id": "c0OK0eG0tEaK"
      },
      "execution_count": 266,
      "outputs": [
        {
          "output_type": "execute_result",
          "data": {
            "text/plain": [
              "array(['26S', '26S', '26S', ..., '26S', '26S', '26S'], dtype=object)"
            ]
          },
          "metadata": {},
          "execution_count": 266
        }
      ]
    },
    {
      "cell_type": "code",
      "source": [
        "#Visualizamos la matriz de Confusión\n",
        "from sklearn.metrics import confusion_matrix\n",
        "matriz = confusion_matrix(y_test, y_pred)\n",
        "print('Matriz de Confusión:')\n",
        "print(matriz)"
      ],
      "metadata": {
        "colab": {
          "base_uri": "https://localhost:8080/"
        },
        "outputId": "6750d10b-21ff-401c-e270-576143911ce6",
        "id": "tKBaIbRctEaK"
      },
      "execution_count": 267,
      "outputs": [
        {
          "output_type": "stream",
          "name": "stdout",
          "text": [
            "Matriz de Confusión:\n",
            "[[  84 1808]\n",
            " [  44 3165]]\n"
          ]
        }
      ]
    },
    {
      "cell_type": "code",
      "source": [
        "#Calculamos las medidas de presición, exactitud y sensibilidad\n",
        "precision = precision_score(y_test, y_pred, average=\"binary\", pos_label='26S')\n",
        "exactitud = accuracy_score(y_test, y_pred)\n",
        "sensibilidad = recall_score(y_test, y_pred, average=\"binary\", pos_label='26S')\n",
        "coeficientes.loc[4] = ['Plazo', 'Modelo 5', round(precision,2), round(exactitud,2), round(sensibilidad,2)]"
      ],
      "metadata": {
        "id": "cKKzCkIetEaK"
      },
      "execution_count": 268,
      "outputs": []
    },
    {
      "cell_type": "markdown",
      "source": [
        "###Modelo 6"
      ],
      "metadata": {
        "id": "RNzmkHwQtEdv"
      }
    },
    {
      "cell_type": "code",
      "source": [
        "#Declaramos las variables dependientes e independientes para la regresión Logística\n",
        "Vars_Indep= df3[['porc_eng','monto_financiado', 'semana']]\n",
        "Var_Dep= df3['plazo']\n",
        "X= Vars_Indep\n",
        "y= Var_Dep\n",
        "#Dividimos el conjunto de datos en la parte de entrenamiento y prueba:\n",
        "X_train, X_test, y_train, y_test = train_test_split(X, y, test_size=0.3, random_state =None)"
      ],
      "metadata": {
        "id": "GOo0ahyotEdv"
      },
      "execution_count": 269,
      "outputs": []
    },
    {
      "cell_type": "code",
      "source": [
        "#Se escalan todos los datos\n",
        "escalar = StandardScaler()\n",
        "#Para realizar el escalamiento de las variables “X” tanto de entrenamiento como de prueba, utilizaremos fit_transform\n",
        "X_train = escalar.fit_transform(X_train)\n",
        "X_test = escalar.transform(X_test)"
      ],
      "metadata": {
        "id": "aCeiTqHAtEdv"
      },
      "execution_count": 270,
      "outputs": []
    },
    {
      "cell_type": "code",
      "source": [
        "#Definimos el algoritmo a utilizar\n",
        "from sklearn.linear_model import LogisticRegression\n",
        "algoritmo = LogisticRegression()\n",
        "#Entrenamos el modelo\n",
        "algoritmo.fit(X_train, y_train)\n",
        "#Realizamos una predicción\n",
        "y_pred = algoritmo.predict(X_test)\n",
        "y_pred"
      ],
      "metadata": {
        "colab": {
          "base_uri": "https://localhost:8080/"
        },
        "outputId": "b940009f-c5cb-4730-a209-3370e5325828",
        "id": "mjsXweC1tEdv"
      },
      "execution_count": 271,
      "outputs": [
        {
          "output_type": "execute_result",
          "data": {
            "text/plain": [
              "array(['26S', '13S', '13S', ..., '26S', '13S', '26S'], dtype=object)"
            ]
          },
          "metadata": {},
          "execution_count": 271
        }
      ]
    },
    {
      "cell_type": "code",
      "source": [
        "#Visualizamos la matriz de Confusión\n",
        "from sklearn.metrics import confusion_matrix\n",
        "matriz = confusion_matrix(y_test, y_pred)\n",
        "print('Matriz de Confusión:')\n",
        "print(matriz)"
      ],
      "metadata": {
        "colab": {
          "base_uri": "https://localhost:8080/"
        },
        "outputId": "f8b7d89a-48ea-4d5a-c681-ab1574da0919",
        "id": "ifaBIj6_tEdv"
      },
      "execution_count": 272,
      "outputs": [
        {
          "output_type": "stream",
          "name": "stdout",
          "text": [
            "Matriz de Confusión:\n",
            "[[1737  119]\n",
            " [  16 3229]]\n"
          ]
        }
      ]
    },
    {
      "cell_type": "code",
      "source": [
        "#Calculamos las medidas de presición, exactitud y sensibilidad\n",
        "precision = precision_score(y_test, y_pred, average=\"binary\", pos_label='26S')\n",
        "exactitud = accuracy_score(y_test, y_pred)\n",
        "sensibilidad = recall_score(y_test, y_pred, average=\"binary\", pos_label='26S')\n",
        "coeficientes.loc[5] = ['Plazo', 'Modelo 6', round(precision,2), round(exactitud,2), round(sensibilidad,2)]"
      ],
      "metadata": {
        "id": "twxdbgJ7tEdv"
      },
      "execution_count": 273,
      "outputs": []
    },
    {
      "cell_type": "markdown",
      "source": [
        "###Modelo 7\n"
      ],
      "metadata": {
        "id": "Cq8XuiTrynNY"
      }
    },
    {
      "cell_type": "code",
      "source": [
        "#Declaramos las variables dependientes e independientes para la regresión Logística\n",
        "Vars_Indep= df4[['edad_cliente', 'semana_actual', 'precio']]\n",
        "Var_Dep= df4['status_cuenta']\n",
        "X= Vars_Indep\n",
        "y= Var_Dep\n",
        "#Dividimos el conjunto de datos en la parte de entrenamiento y prueba:\n",
        "X_train, X_test, y_train, y_test = train_test_split(X, y, test_size=0.3, random_state =None)"
      ],
      "metadata": {
        "id": "DCsRfLA_ynNk"
      },
      "execution_count": 274,
      "outputs": []
    },
    {
      "cell_type": "code",
      "source": [
        "#Se escalan todos los datos\n",
        "escalar = StandardScaler()\n",
        "#Para realizar el escalamiento de las variables “X” tanto de entrenamiento como de prueba, utilizaremos fit_transform\n",
        "X_train = escalar.fit_transform(X_train)\n",
        "X_test = escalar.transform(X_test)"
      ],
      "metadata": {
        "id": "_hHVfZOCynNl"
      },
      "execution_count": 275,
      "outputs": []
    },
    {
      "cell_type": "code",
      "source": [
        "#Definimos el algoritmo a utilizar\n",
        "from sklearn.linear_model import LogisticRegression\n",
        "algoritmo = LogisticRegression()\n",
        "#Entrenamos el modelo\n",
        "algoritmo.fit(X_train, y_train)\n",
        "#Realizamos una predicción\n",
        "y_pred = algoritmo.predict(X_test)\n",
        "y_pred"
      ],
      "metadata": {
        "colab": {
          "base_uri": "https://localhost:8080/"
        },
        "outputId": "1bc2baf8-eeae-4af6-d475-a51837a1f3fe",
        "id": "qngWhotnynNl"
      },
      "execution_count": 276,
      "outputs": [
        {
          "output_type": "execute_result",
          "data": {
            "text/plain": [
              "array(['Corriente', 'Mora', 'Corriente', ..., 'Corriente', 'Corriente',\n",
              "       'Mora'], dtype=object)"
            ]
          },
          "metadata": {},
          "execution_count": 276
        }
      ]
    },
    {
      "cell_type": "code",
      "source": [
        "#Visualizamos la matriz de Confusión\n",
        "from sklearn.metrics import confusion_matrix\n",
        "matriz = confusion_matrix(y_test, y_pred)\n",
        "print('Matriz de Confusión:')\n",
        "print(matriz)"
      ],
      "metadata": {
        "colab": {
          "base_uri": "https://localhost:8080/"
        },
        "outputId": "16e18c66-2d3f-4f3f-9ff0-0ed243d2947d",
        "id": "0kVwQ4P9ynNl"
      },
      "execution_count": 277,
      "outputs": [
        {
          "output_type": "stream",
          "name": "stdout",
          "text": [
            "Matriz de Confusión:\n",
            "[[3695  289]\n",
            " [ 702  694]]\n"
          ]
        }
      ]
    },
    {
      "cell_type": "code",
      "source": [
        "#Calculamos las medidas de presición, exactitud y sensibilidad\n",
        "precision = precision_score(y_test, y_pred, average=\"binary\", pos_label='Corriente')\n",
        "exactitud = accuracy_score(y_test, y_pred)\n",
        "sensibilidad = recall_score(y_test, y_pred, average=\"binary\", pos_label='Corriente')\n",
        "coeficientes.loc[6] = ['Status_cuenta', 'Modelo 7', round(precision,2), round(exactitud,2), round(sensibilidad,2)]"
      ],
      "metadata": {
        "id": "jL-C-yILynNm"
      },
      "execution_count": 278,
      "outputs": []
    },
    {
      "cell_type": "markdown",
      "source": [
        "###Modelo 8\n"
      ],
      "metadata": {
        "id": "vgeViuEg020Q"
      }
    },
    {
      "cell_type": "code",
      "source": [
        "#Declaramos las variables dependientes e independientes para la regresión Logística\n",
        "Vars_Indep= df4[['edad_cliente', 'precio', 'pagos_realizados']]\n",
        "Var_Dep= df4['status_cuenta']\n",
        "X= Vars_Indep\n",
        "y= Var_Dep\n",
        "#Dividimos el conjunto de datos en la parte de entrenamiento y prueba:\n",
        "X_train, X_test, y_train, y_test = train_test_split(X, y, test_size=0.3, random_state =None)"
      ],
      "metadata": {
        "id": "Lx_rM7s4020Z"
      },
      "execution_count": 279,
      "outputs": []
    },
    {
      "cell_type": "code",
      "source": [
        "#Se escalan todos los datos\n",
        "escalar = StandardScaler()\n",
        "#Para realizar el escalamiento de las variables “X” tanto de entrenamiento como de prueba, utilizaremos fit_transform\n",
        "X_train = escalar.fit_transform(X_train)\n",
        "X_test = escalar.transform(X_test)"
      ],
      "metadata": {
        "id": "HXQI5Wjx020Z"
      },
      "execution_count": 280,
      "outputs": []
    },
    {
      "cell_type": "code",
      "source": [
        "#Definimos el algoritmo a utilizar\n",
        "from sklearn.linear_model import LogisticRegression\n",
        "algoritmo = LogisticRegression()\n",
        "#Entrenamos el modelo\n",
        "algoritmo.fit(X_train, y_train)\n",
        "#Realizamos una predicción\n",
        "y_pred = algoritmo.predict(X_test)\n",
        "y_pred"
      ],
      "metadata": {
        "colab": {
          "base_uri": "https://localhost:8080/"
        },
        "outputId": "f8c76db8-9148-47eb-b13e-9f8435d61c66",
        "id": "bUO2Kln1020a"
      },
      "execution_count": 281,
      "outputs": [
        {
          "output_type": "execute_result",
          "data": {
            "text/plain": [
              "array(['Corriente', 'Corriente', 'Corriente', ..., 'Corriente',\n",
              "       'Corriente', 'Corriente'], dtype=object)"
            ]
          },
          "metadata": {},
          "execution_count": 281
        }
      ]
    },
    {
      "cell_type": "code",
      "source": [
        "#Visualizamos la matriz de Confusión\n",
        "from sklearn.metrics import confusion_matrix\n",
        "matriz = confusion_matrix(y_test, y_pred)\n",
        "print('Matriz de Confusión:')\n",
        "print(matriz)"
      ],
      "metadata": {
        "colab": {
          "base_uri": "https://localhost:8080/"
        },
        "outputId": "23c40666-0c98-4d39-8a85-51037882f658",
        "id": "aHtypcfy020a"
      },
      "execution_count": 282,
      "outputs": [
        {
          "output_type": "stream",
          "name": "stdout",
          "text": [
            "Matriz de Confusión:\n",
            "[[3952    0]\n",
            " [1428    0]]\n"
          ]
        }
      ]
    },
    {
      "cell_type": "code",
      "source": [
        "#Calculamos las medidas de presición, exactitud y sensibilidad\n",
        "precision = precision_score(y_test, y_pred, average=\"binary\", pos_label='Corriente')\n",
        "exactitud = accuracy_score(y_test, y_pred)\n",
        "sensibilidad = recall_score(y_test, y_pred, average=\"binary\", pos_label='Corriente')\n",
        "coeficientes.loc[7] = ['Status_cuenta', 'Modelo 8', round(precision,2), round(exactitud,2), round(sensibilidad,2)]"
      ],
      "metadata": {
        "id": "r8hNn7YR020a"
      },
      "execution_count": 283,
      "outputs": []
    },
    {
      "cell_type": "markdown",
      "source": [
        "###Modelo 9\n"
      ],
      "metadata": {
        "id": "y9rB2ui2ALO7"
      }
    },
    {
      "cell_type": "code",
      "source": [
        "#Declaramos las variables dependientes e independientes para la regresión Logística\n",
        "Vars_Indep= df5[['descuento', 'enganche', 'edad_cliente']]\n",
        "Var_Dep= df5['marca']\n",
        "X= Vars_Indep\n",
        "y= Var_Dep\n",
        "#Dividimos el conjunto de datos en la parte de entrenamiento y prueba:\n",
        "X_train, X_test, y_train, y_test = train_test_split(X, y, test_size=0.3, random_state =None)"
      ],
      "metadata": {
        "id": "jrZfQiRSALPB"
      },
      "execution_count": 284,
      "outputs": []
    },
    {
      "cell_type": "code",
      "source": [
        "#Se escalan todos los datos\n",
        "escalar = StandardScaler()\n",
        "#Para realizar el escalamiento de las variables “X” tanto de entrenamiento como de prueba, utilizaremos fit_transform\n",
        "X_train = escalar.fit_transform(X_train)\n",
        "X_test = escalar.transform(X_test)"
      ],
      "metadata": {
        "id": "oo9GE4TBALPC"
      },
      "execution_count": 285,
      "outputs": []
    },
    {
      "cell_type": "code",
      "source": [
        "#Definimos el algoritmo a utilizar\n",
        "from sklearn.linear_model import LogisticRegression\n",
        "algoritmo = LogisticRegression()\n",
        "#Entrenamos el modelo\n",
        "algoritmo.fit(X_train, y_train)\n",
        "#Realizamos una predicción\n",
        "y_pred = algoritmo.predict(X_test)\n",
        "y_pred"
      ],
      "metadata": {
        "colab": {
          "base_uri": "https://localhost:8080/"
        },
        "outputId": "5aa20050-6105-496a-bb5a-e81009c482af",
        "id": "fV3iGE85ALPC"
      },
      "execution_count": 286,
      "outputs": [
        {
          "output_type": "execute_result",
          "data": {
            "text/plain": [
              "array(['Samsung', 'Samsung', 'Samsung', ..., 'Samsung', 'Samsung',\n",
              "       'Samsung'], dtype=object)"
            ]
          },
          "metadata": {},
          "execution_count": 286
        }
      ]
    },
    {
      "cell_type": "code",
      "source": [
        "#Visualizamos la matriz de Confusión\n",
        "from sklearn.metrics import confusion_matrix\n",
        "matriz = confusion_matrix(y_test, y_pred)\n",
        "print('Matriz de Confusión:')\n",
        "print(matriz)"
      ],
      "metadata": {
        "colab": {
          "base_uri": "https://localhost:8080/"
        },
        "outputId": "a855d593-9ab9-4459-e023-a0441903fd44",
        "id": "4Rrc-nR1ALPC"
      },
      "execution_count": 287,
      "outputs": [
        {
          "output_type": "stream",
          "name": "stdout",
          "text": [
            "Matriz de Confusión:\n",
            "[[  77 1329]\n",
            " [ 109 3661]]\n"
          ]
        }
      ]
    },
    {
      "cell_type": "code",
      "source": [
        "#Calculamos las medidas de presición, exactitud y sensibilidad\n",
        "precision = precision_score(y_test, y_pred, average=\"binary\", pos_label='Samsung')\n",
        "exactitud = accuracy_score(y_test, y_pred)\n",
        "sensibilidad = recall_score(y_test, y_pred, average=\"binary\", pos_label='Samsung')\n",
        "coeficientes.loc[8] = ['Marca', 'Modelo 9', round(precision,2), round(exactitud,2), round(sensibilidad,2)]"
      ],
      "metadata": {
        "id": "OdULfU7CALPC"
      },
      "execution_count": 288,
      "outputs": []
    },
    {
      "cell_type": "markdown",
      "source": [
        "###Modelo 10\n"
      ],
      "metadata": {
        "id": "wd76ufDn9l3I"
      }
    },
    {
      "cell_type": "code",
      "source": [
        "#Declaramos las variables dependientes e independientes para la regresión Logística\n",
        "Vars_Indep= df5[['descuento', 'semana', 'score_buro']]\n",
        "Var_Dep= df5['marca']\n",
        "X= Vars_Indep\n",
        "y= Var_Dep\n",
        "#Dividimos el conjunto de datos en la parte de entrenamiento y prueba:\n",
        "X_train, X_test, y_train, y_test = train_test_split(X, y, test_size=0.3, random_state =None)"
      ],
      "metadata": {
        "id": "DBDw8T-G9l3K"
      },
      "execution_count": 289,
      "outputs": []
    },
    {
      "cell_type": "code",
      "source": [
        "#Se escalan todos los datos\n",
        "escalar = StandardScaler()\n",
        "#Para realizar el escalamiento de las variables “X” tanto de entrenamiento como de prueba, utilizaremos fit_transform\n",
        "X_train = escalar.fit_transform(X_train)\n",
        "X_test = escalar.transform(X_test)"
      ],
      "metadata": {
        "id": "p1nl9fxo9l3L"
      },
      "execution_count": 290,
      "outputs": []
    },
    {
      "cell_type": "code",
      "source": [
        "#Definimos el algoritmo a utilizar\n",
        "from sklearn.linear_model import LogisticRegression\n",
        "algoritmo = LogisticRegression()\n",
        "#Entrenamos el modelo\n",
        "algoritmo.fit(X_train, y_train)\n",
        "#Realizamos una predicción\n",
        "y_pred = algoritmo.predict(X_test)\n",
        "y_pred"
      ],
      "metadata": {
        "colab": {
          "base_uri": "https://localhost:8080/"
        },
        "outputId": "db44b0fa-7e98-4cd0-df79-f8a57428afe7",
        "id": "FV0B3yxJ9l3L"
      },
      "execution_count": 291,
      "outputs": [
        {
          "output_type": "execute_result",
          "data": {
            "text/plain": [
              "array(['Samsung', 'Samsung', 'Samsung', ..., 'Samsung', 'Samsung',\n",
              "       'Samsung'], dtype=object)"
            ]
          },
          "metadata": {},
          "execution_count": 291
        }
      ]
    },
    {
      "cell_type": "code",
      "source": [
        "#Visualizamos la matriz de Confusión\n",
        "from sklearn.metrics import confusion_matrix\n",
        "matriz = confusion_matrix(y_test, y_pred)\n",
        "print('Matriz de Confusión:')\n",
        "print(matriz)"
      ],
      "metadata": {
        "colab": {
          "base_uri": "https://localhost:8080/"
        },
        "outputId": "fb22b1fc-22ea-4b7a-b51e-f4c93ddd51a1",
        "id": "YHZCYa2K9l3L"
      },
      "execution_count": 292,
      "outputs": [
        {
          "output_type": "stream",
          "name": "stdout",
          "text": [
            "Matriz de Confusión:\n",
            "[[  15 1426]\n",
            " [   7 3728]]\n"
          ]
        }
      ]
    },
    {
      "cell_type": "code",
      "source": [
        "#Calculamos las medidas de presición, exactitud y sensibilidad\n",
        "precision = precision_score(y_test, y_pred, average=\"binary\", pos_label='Samsung')\n",
        "exactitud = accuracy_score(y_test, y_pred)\n",
        "sensibilidad = recall_score(y_test, y_pred, average=\"binary\", pos_label='Samsung')\n",
        "coeficientes.loc[9] = ['Marca', 'Modelo 10', round(precision,2), round(exactitud,2), round(sensibilidad,2)]"
      ],
      "metadata": {
        "id": "6EWC5n5c9l3M"
      },
      "execution_count": 293,
      "outputs": []
    },
    {
      "cell_type": "markdown",
      "source": [
        "###Realizar una tabla de todos los coeficientes de precisión, exactitud y sensibilidad obtenidos para cada correlación analizada, según sea el caso."
      ],
      "metadata": {
        "id": "fGuraMxG_Quh"
      }
    },
    {
      "cell_type": "code",
      "source": [
        "coeficientes.head(10)"
      ],
      "metadata": {
        "colab": {
          "base_uri": "https://localhost:8080/",
          "height": 363
        },
        "id": "QZcV0plh_TAS",
        "outputId": "50b68454-9e21-49f5-d2c5-6e9152aca84d"
      },
      "execution_count": 294,
      "outputs": [
        {
          "output_type": "execute_result",
          "data": {
            "text/plain": [
              "        Variable     Modelo  Precision  Exactitud  Sensibilidad\n",
              "0         Status   Modelo 1       0.75       0.75          1.00\n",
              "1         Status   Modelo 2       0.75       0.75          1.00\n",
              "2      Inversión   Modelo 3       0.76       0.76          1.00\n",
              "3      Inversión   Modelo 4       0.77       0.76          0.98\n",
              "4          Plazo   Modelo 5       0.64       0.64          0.99\n",
              "5          Plazo   Modelo 6       0.96       0.97          1.00\n",
              "6  Status_cuenta   Modelo 7       0.84       0.82          0.93\n",
              "7  Status_cuenta   Modelo 8       0.73       0.73          1.00\n",
              "8          Marca   Modelo 9       0.73       0.72          0.97\n",
              "9          Marca  Modelo 10       0.72       0.72          1.00"
            ],
            "text/html": [
              "\n",
              "  <div id=\"df-8ccaa7da-e042-4bb9-ada7-aa76d21781d9\" class=\"colab-df-container\">\n",
              "    <div>\n",
              "<style scoped>\n",
              "    .dataframe tbody tr th:only-of-type {\n",
              "        vertical-align: middle;\n",
              "    }\n",
              "\n",
              "    .dataframe tbody tr th {\n",
              "        vertical-align: top;\n",
              "    }\n",
              "\n",
              "    .dataframe thead th {\n",
              "        text-align: right;\n",
              "    }\n",
              "</style>\n",
              "<table border=\"1\" class=\"dataframe\">\n",
              "  <thead>\n",
              "    <tr style=\"text-align: right;\">\n",
              "      <th></th>\n",
              "      <th>Variable</th>\n",
              "      <th>Modelo</th>\n",
              "      <th>Precision</th>\n",
              "      <th>Exactitud</th>\n",
              "      <th>Sensibilidad</th>\n",
              "    </tr>\n",
              "  </thead>\n",
              "  <tbody>\n",
              "    <tr>\n",
              "      <th>0</th>\n",
              "      <td>Status</td>\n",
              "      <td>Modelo 1</td>\n",
              "      <td>0.75</td>\n",
              "      <td>0.75</td>\n",
              "      <td>1.00</td>\n",
              "    </tr>\n",
              "    <tr>\n",
              "      <th>1</th>\n",
              "      <td>Status</td>\n",
              "      <td>Modelo 2</td>\n",
              "      <td>0.75</td>\n",
              "      <td>0.75</td>\n",
              "      <td>1.00</td>\n",
              "    </tr>\n",
              "    <tr>\n",
              "      <th>2</th>\n",
              "      <td>Inversión</td>\n",
              "      <td>Modelo 3</td>\n",
              "      <td>0.76</td>\n",
              "      <td>0.76</td>\n",
              "      <td>1.00</td>\n",
              "    </tr>\n",
              "    <tr>\n",
              "      <th>3</th>\n",
              "      <td>Inversión</td>\n",
              "      <td>Modelo 4</td>\n",
              "      <td>0.77</td>\n",
              "      <td>0.76</td>\n",
              "      <td>0.98</td>\n",
              "    </tr>\n",
              "    <tr>\n",
              "      <th>4</th>\n",
              "      <td>Plazo</td>\n",
              "      <td>Modelo 5</td>\n",
              "      <td>0.64</td>\n",
              "      <td>0.64</td>\n",
              "      <td>0.99</td>\n",
              "    </tr>\n",
              "    <tr>\n",
              "      <th>5</th>\n",
              "      <td>Plazo</td>\n",
              "      <td>Modelo 6</td>\n",
              "      <td>0.96</td>\n",
              "      <td>0.97</td>\n",
              "      <td>1.00</td>\n",
              "    </tr>\n",
              "    <tr>\n",
              "      <th>6</th>\n",
              "      <td>Status_cuenta</td>\n",
              "      <td>Modelo 7</td>\n",
              "      <td>0.84</td>\n",
              "      <td>0.82</td>\n",
              "      <td>0.93</td>\n",
              "    </tr>\n",
              "    <tr>\n",
              "      <th>7</th>\n",
              "      <td>Status_cuenta</td>\n",
              "      <td>Modelo 8</td>\n",
              "      <td>0.73</td>\n",
              "      <td>0.73</td>\n",
              "      <td>1.00</td>\n",
              "    </tr>\n",
              "    <tr>\n",
              "      <th>8</th>\n",
              "      <td>Marca</td>\n",
              "      <td>Modelo 9</td>\n",
              "      <td>0.73</td>\n",
              "      <td>0.72</td>\n",
              "      <td>0.97</td>\n",
              "    </tr>\n",
              "    <tr>\n",
              "      <th>9</th>\n",
              "      <td>Marca</td>\n",
              "      <td>Modelo 10</td>\n",
              "      <td>0.72</td>\n",
              "      <td>0.72</td>\n",
              "      <td>1.00</td>\n",
              "    </tr>\n",
              "  </tbody>\n",
              "</table>\n",
              "</div>\n",
              "    <div class=\"colab-df-buttons\">\n",
              "\n",
              "  <div class=\"colab-df-container\">\n",
              "    <button class=\"colab-df-convert\" onclick=\"convertToInteractive('df-8ccaa7da-e042-4bb9-ada7-aa76d21781d9')\"\n",
              "            title=\"Convert this dataframe to an interactive table.\"\n",
              "            style=\"display:none;\">\n",
              "\n",
              "  <svg xmlns=\"http://www.w3.org/2000/svg\" height=\"24px\" viewBox=\"0 -960 960 960\">\n",
              "    <path d=\"M120-120v-720h720v720H120Zm60-500h600v-160H180v160Zm220 220h160v-160H400v160Zm0 220h160v-160H400v160ZM180-400h160v-160H180v160Zm440 0h160v-160H620v160ZM180-180h160v-160H180v160Zm440 0h160v-160H620v160Z\"/>\n",
              "  </svg>\n",
              "    </button>\n",
              "\n",
              "  <style>\n",
              "    .colab-df-container {\n",
              "      display:flex;\n",
              "      gap: 12px;\n",
              "    }\n",
              "\n",
              "    .colab-df-convert {\n",
              "      background-color: #E8F0FE;\n",
              "      border: none;\n",
              "      border-radius: 50%;\n",
              "      cursor: pointer;\n",
              "      display: none;\n",
              "      fill: #1967D2;\n",
              "      height: 32px;\n",
              "      padding: 0 0 0 0;\n",
              "      width: 32px;\n",
              "    }\n",
              "\n",
              "    .colab-df-convert:hover {\n",
              "      background-color: #E2EBFA;\n",
              "      box-shadow: 0px 1px 2px rgba(60, 64, 67, 0.3), 0px 1px 3px 1px rgba(60, 64, 67, 0.15);\n",
              "      fill: #174EA6;\n",
              "    }\n",
              "\n",
              "    .colab-df-buttons div {\n",
              "      margin-bottom: 4px;\n",
              "    }\n",
              "\n",
              "    [theme=dark] .colab-df-convert {\n",
              "      background-color: #3B4455;\n",
              "      fill: #D2E3FC;\n",
              "    }\n",
              "\n",
              "    [theme=dark] .colab-df-convert:hover {\n",
              "      background-color: #434B5C;\n",
              "      box-shadow: 0px 1px 3px 1px rgba(0, 0, 0, 0.15);\n",
              "      filter: drop-shadow(0px 1px 2px rgba(0, 0, 0, 0.3));\n",
              "      fill: #FFFFFF;\n",
              "    }\n",
              "  </style>\n",
              "\n",
              "    <script>\n",
              "      const buttonEl =\n",
              "        document.querySelector('#df-8ccaa7da-e042-4bb9-ada7-aa76d21781d9 button.colab-df-convert');\n",
              "      buttonEl.style.display =\n",
              "        google.colab.kernel.accessAllowed ? 'block' : 'none';\n",
              "\n",
              "      async function convertToInteractive(key) {\n",
              "        const element = document.querySelector('#df-8ccaa7da-e042-4bb9-ada7-aa76d21781d9');\n",
              "        const dataTable =\n",
              "          await google.colab.kernel.invokeFunction('convertToInteractive',\n",
              "                                                    [key], {});\n",
              "        if (!dataTable) return;\n",
              "\n",
              "        const docLinkHtml = 'Like what you see? Visit the ' +\n",
              "          '<a target=\"_blank\" href=https://colab.research.google.com/notebooks/data_table.ipynb>data table notebook</a>'\n",
              "          + ' to learn more about interactive tables.';\n",
              "        element.innerHTML = '';\n",
              "        dataTable['output_type'] = 'display_data';\n",
              "        await google.colab.output.renderOutput(dataTable, element);\n",
              "        const docLink = document.createElement('div');\n",
              "        docLink.innerHTML = docLinkHtml;\n",
              "        element.appendChild(docLink);\n",
              "      }\n",
              "    </script>\n",
              "  </div>\n",
              "\n",
              "\n",
              "<div id=\"df-05986b85-1eb5-4ce6-8702-0ba1ecd18d61\">\n",
              "  <button class=\"colab-df-quickchart\" onclick=\"quickchart('df-05986b85-1eb5-4ce6-8702-0ba1ecd18d61')\"\n",
              "            title=\"Suggest charts.\"\n",
              "            style=\"display:none;\">\n",
              "\n",
              "<svg xmlns=\"http://www.w3.org/2000/svg\" height=\"24px\"viewBox=\"0 0 24 24\"\n",
              "     width=\"24px\">\n",
              "    <g>\n",
              "        <path d=\"M19 3H5c-1.1 0-2 .9-2 2v14c0 1.1.9 2 2 2h14c1.1 0 2-.9 2-2V5c0-1.1-.9-2-2-2zM9 17H7v-7h2v7zm4 0h-2V7h2v10zm4 0h-2v-4h2v4z\"/>\n",
              "    </g>\n",
              "</svg>\n",
              "  </button>\n",
              "\n",
              "<style>\n",
              "  .colab-df-quickchart {\n",
              "      --bg-color: #E8F0FE;\n",
              "      --fill-color: #1967D2;\n",
              "      --hover-bg-color: #E2EBFA;\n",
              "      --hover-fill-color: #174EA6;\n",
              "      --disabled-fill-color: #AAA;\n",
              "      --disabled-bg-color: #DDD;\n",
              "  }\n",
              "\n",
              "  [theme=dark] .colab-df-quickchart {\n",
              "      --bg-color: #3B4455;\n",
              "      --fill-color: #D2E3FC;\n",
              "      --hover-bg-color: #434B5C;\n",
              "      --hover-fill-color: #FFFFFF;\n",
              "      --disabled-bg-color: #3B4455;\n",
              "      --disabled-fill-color: #666;\n",
              "  }\n",
              "\n",
              "  .colab-df-quickchart {\n",
              "    background-color: var(--bg-color);\n",
              "    border: none;\n",
              "    border-radius: 50%;\n",
              "    cursor: pointer;\n",
              "    display: none;\n",
              "    fill: var(--fill-color);\n",
              "    height: 32px;\n",
              "    padding: 0;\n",
              "    width: 32px;\n",
              "  }\n",
              "\n",
              "  .colab-df-quickchart:hover {\n",
              "    background-color: var(--hover-bg-color);\n",
              "    box-shadow: 0 1px 2px rgba(60, 64, 67, 0.3), 0 1px 3px 1px rgba(60, 64, 67, 0.15);\n",
              "    fill: var(--button-hover-fill-color);\n",
              "  }\n",
              "\n",
              "  .colab-df-quickchart-complete:disabled,\n",
              "  .colab-df-quickchart-complete:disabled:hover {\n",
              "    background-color: var(--disabled-bg-color);\n",
              "    fill: var(--disabled-fill-color);\n",
              "    box-shadow: none;\n",
              "  }\n",
              "\n",
              "  .colab-df-spinner {\n",
              "    border: 2px solid var(--fill-color);\n",
              "    border-color: transparent;\n",
              "    border-bottom-color: var(--fill-color);\n",
              "    animation:\n",
              "      spin 1s steps(1) infinite;\n",
              "  }\n",
              "\n",
              "  @keyframes spin {\n",
              "    0% {\n",
              "      border-color: transparent;\n",
              "      border-bottom-color: var(--fill-color);\n",
              "      border-left-color: var(--fill-color);\n",
              "    }\n",
              "    20% {\n",
              "      border-color: transparent;\n",
              "      border-left-color: var(--fill-color);\n",
              "      border-top-color: var(--fill-color);\n",
              "    }\n",
              "    30% {\n",
              "      border-color: transparent;\n",
              "      border-left-color: var(--fill-color);\n",
              "      border-top-color: var(--fill-color);\n",
              "      border-right-color: var(--fill-color);\n",
              "    }\n",
              "    40% {\n",
              "      border-color: transparent;\n",
              "      border-right-color: var(--fill-color);\n",
              "      border-top-color: var(--fill-color);\n",
              "    }\n",
              "    60% {\n",
              "      border-color: transparent;\n",
              "      border-right-color: var(--fill-color);\n",
              "    }\n",
              "    80% {\n",
              "      border-color: transparent;\n",
              "      border-right-color: var(--fill-color);\n",
              "      border-bottom-color: var(--fill-color);\n",
              "    }\n",
              "    90% {\n",
              "      border-color: transparent;\n",
              "      border-bottom-color: var(--fill-color);\n",
              "    }\n",
              "  }\n",
              "</style>\n",
              "\n",
              "  <script>\n",
              "    async function quickchart(key) {\n",
              "      const quickchartButtonEl =\n",
              "        document.querySelector('#' + key + ' button');\n",
              "      quickchartButtonEl.disabled = true;  // To prevent multiple clicks.\n",
              "      quickchartButtonEl.classList.add('colab-df-spinner');\n",
              "      try {\n",
              "        const charts = await google.colab.kernel.invokeFunction(\n",
              "            'suggestCharts', [key], {});\n",
              "      } catch (error) {\n",
              "        console.error('Error during call to suggestCharts:', error);\n",
              "      }\n",
              "      quickchartButtonEl.classList.remove('colab-df-spinner');\n",
              "      quickchartButtonEl.classList.add('colab-df-quickchart-complete');\n",
              "    }\n",
              "    (() => {\n",
              "      let quickchartButtonEl =\n",
              "        document.querySelector('#df-05986b85-1eb5-4ce6-8702-0ba1ecd18d61 button');\n",
              "      quickchartButtonEl.style.display =\n",
              "        google.colab.kernel.accessAllowed ? 'block' : 'none';\n",
              "    })();\n",
              "  </script>\n",
              "</div>\n",
              "    </div>\n",
              "  </div>\n"
            ]
          },
          "metadata": {},
          "execution_count": 294
        }
      ]
    }
  ]
}